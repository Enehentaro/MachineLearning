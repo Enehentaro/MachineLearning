{
 "cells": [
  {
   "cell_type": "markdown",
   "id": "a56bf099",
   "metadata": {},
   "source": [
    "optuna-dashboard 起動メモ\\\n",
    "!hostname -i\\\n",
    "!optuna-dashboard --host \"172.17.0.2\"  \"sqlite:///MachineLearning/OptunaLogs/2022-10-23/optuna.sqlite3\"\\\n",
    "\\\n",
    "↓optuna.sqlite3に入っているログの一覧確認"
   ]
  },
  {
   "cell_type": "code",
   "execution_count": null,
   "id": "80effabd",
   "metadata": {},
   "outputs": [],
   "source": [
    "!optuna studies --storage \"sqlite:///./OptunaLogs/2022-10-24/optuna.sqlite3\""
   ]
  },
  {
   "cell_type": "markdown",
   "id": "60d4bf58",
   "metadata": {},
   "source": [
    "# データの読み込み"
   ]
  },
  {
   "cell_type": "code",
   "execution_count": null,
   "id": "cfaa1696",
   "metadata": {},
   "outputs": [],
   "source": [
    "!pwd"
   ]
  },
  {
   "cell_type": "code",
   "execution_count": null,
   "id": "798554a8",
   "metadata": {},
   "outputs": [],
   "source": [
    "#warningはpythonの標準ライブラリ．\n",
    "#FutureWarnigが邪魔なので非表示にする．動作に支障が無ければ問題ない．また最適化によって解が収束しないときに出るConvergenceWarningも邪魔なので非表示にする．\n",
    "import warnings\n",
    "from sklearn.exceptions import ConvergenceWarning\n",
    "warnings.simplefilter(\"ignore\", category=(FutureWarning, ConvergenceWarning))#対象のwarningsクラスはタプルで渡す必要があるらしい"
   ]
  },
  {
   "cell_type": "code",
   "execution_count": null,
   "id": "525901ad",
   "metadata": {},
   "outputs": [],
   "source": [
    "import pprint\n",
    "import sys\n",
    "sys.path.append(\"/mnt/MachineLearning\")\n",
    "pprint.pprint(sys.path)"
   ]
  },
  {
   "cell_type": "code",
   "execution_count": null,
   "id": "61894af2",
   "metadata": {},
   "outputs": [],
   "source": [
    "#各種モジュールのimport\n",
    "%matplotlib inline\n",
    "import os\n",
    "import glob\n",
    "\n",
    "import numpy as np\n",
    "import pandas as pd\n",
    "import matplotlib.pyplot as plt\n",
    "from mlxtend.plotting import scatterplotmatrix\n",
    "from mlxtend.plotting import heatmap\n",
    "\n",
    "from modules import show_mod\n",
    "from modules.log_controler import ControlLog\n",
    "\n",
    "from tqdm.notebook import tqdm\n",
    "\n",
    "from sklearn import preprocessing\n",
    "from sklearn.pipeline import make_pipeline\n",
    "\n",
    "from sklearn.decomposition import PCA\n",
    "from sklearn.linear_model import LinearRegression\n",
    "from sklearn.linear_model import Lasso\n",
    "from sklearn.linear_model import Ridge\n",
    "from sklearn.linear_model import ElasticNet\n",
    "\n",
    "from sklearn.model_selection import cross_validate, KFold\n",
    "from sklearn.metrics import mean_squared_error\n",
    "\n",
    "import optuna"
   ]
  },
  {
   "cell_type": "code",
   "execution_count": null,
   "id": "e98b3c39",
   "metadata": {},
   "outputs": [],
   "source": [
    "#読み込むデータのパスの設定\n",
    "current_dir_path = os.getcwd()\n",
    "data_path = \"/mnt/MachineLearning/data\"\n",
    "input_list = glob.glob(data_path+\"/*\"+\"/inputdata.csv\")\n",
    "output_list = glob.glob(data_path+\"/CountResults\"+\"/sitting\"+\"/count_from2sec_patientAverage.csv\")\n",
    "num_input = len(input_list)"
   ]
  },
  {
   "cell_type": "code",
   "execution_count": null,
   "id": "ff326c9f",
   "metadata": {},
   "outputs": [],
   "source": [
    "data_path"
   ]
  },
  {
   "cell_type": "code",
   "execution_count": null,
   "id": "c0adea26",
   "metadata": {},
   "outputs": [],
   "source": [
    "#input(空調条件等)の読み込み\n",
    "df_input = None\n",
    "\n",
    "for input_fname in input_list:\n",
    "    df_read = pd.read_csv(input_fname, index_col=\"case_name\")\n",
    "    if df_input is None:\n",
    "        df_input = df_read\n",
    "    else:\n",
    "        df_input = df_input.append(df_read)\n",
    "\n",
    "df_input"
   ]
  },
  {
   "cell_type": "code",
   "execution_count": null,
   "id": "6c0551ad",
   "metadata": {},
   "outputs": [],
   "source": [
    "#入力データの選択(オフィスサイズとエアコン位置が被っていると思うので削除)\n",
    "delete_cols = [\"aircon_position_x\", \"aircon_position_y\"]\n",
    "df_input.drop(df_input[delete_cols], axis=1, inplace=True)\n",
    "df_input"
   ]
  },
  {
   "cell_type": "code",
   "execution_count": null,
   "id": "360aab23",
   "metadata": {},
   "outputs": [],
   "source": [
    "#排気口位置a,b,offをダミー変数化\n",
    "df_input = pd.get_dummies(df_input, columns=['exhaust'])\n",
    "df_input"
   ]
  },
  {
   "cell_type": "code",
   "execution_count": null,
   "id": "5baba89d",
   "metadata": {},
   "outputs": [],
   "source": [
    "df_output = pd.read_csv(output_list[0], index_col=\"casename\")\n",
    "df_output"
   ]
  },
  {
   "cell_type": "code",
   "execution_count": null,
   "id": "c5a50e0c",
   "metadata": {},
   "outputs": [],
   "source": [
    "#df_outputの値の幅を見てみる\n",
    "#正規表現で書いており、.extractはパターンにマッチした最初の文字列のみを抜き出す。office+0-9までの数字1桁または2桁を探索\n",
    "office_list = df_output.index.str.extract(\"(office+[0-9]{1,2})\").to_numpy()\n",
    "\n",
    "plt.figure(figsize=[10, 8])\n",
    "\n",
    "#カラーマップ等の準備\n",
    "markers = (\"s\", \"x\", \"o\", \"^\", \"v\", \"<\", \">\", \"1\", \"2\", \"3\", \"4\", \"8\")\n",
    "colors = (\"red\", \"blue\", \"limegreen\", \"gray\", \"cyan\", \"black\", \"purple\", \"green\",\n",
    "          \"orange\", \"yellow\", \"crimson\", \"goldenrod\", \"orchid\")\n",
    "start_index = 0\n",
    "\n",
    "for idx, target_office_name in enumerate(np.unique(office_list)):\n",
    "    target_office_index = [i for i in range(office_list.shape[0]) if any(office_list[i] == target_office_name)]\n",
    "    plt.scatter(df_output.iloc[target_office_index ,2], range(1+start_index, len(target_office_index)+1+start_index), \n",
    "                s=80, c=colors[idx], marker=markers[2], edgecolor=\"white\", label=target_office_name)\n",
    "    start_index += len(target_office_index)\n",
    "    \n",
    "\n",
    "plt.ylabel(\"case number\")\n",
    "plt.xlabel(\"infected risk\")\n",
    "plt.legend(loc=\"best\")\n",
    "plt.tight_layout()\n",
    "plt.grid()\n",
    "plt.show()"
   ]
  },
  {
   "cell_type": "code",
   "execution_count": null,
   "id": "bb16fb73",
   "metadata": {},
   "outputs": [],
   "source": [
    "df_total = pd.merge(df_input, df_output, left_index=True, right_index=True)\n",
    "print(f\"num null in df:{df_total.isnull().values.sum()}\")#結合が上手く行っていないかどうか確認\n",
    "df_total"
   ]
  },
  {
   "cell_type": "code",
   "execution_count": null,
   "id": "ba70738a",
   "metadata": {},
   "outputs": [],
   "source": [
    "df_total.info()"
   ]
  },
  {
   "cell_type": "markdown",
   "id": "0a5e09ba",
   "metadata": {},
   "source": [
    "# 統計分析"
   ]
  },
  {
   "cell_type": "code",
   "execution_count": null,
   "id": "79693739",
   "metadata": {},
   "outputs": [],
   "source": [
    "#基礎統計量について確認\n",
    "df_total.describe()"
   ]
  },
  {
   "cell_type": "code",
   "execution_count": null,
   "id": "64c53788",
   "metadata": {},
   "outputs": [],
   "source": [
    "#口のz座標は全て同じであることがわかり特徴量として機能しないので削除\n",
    "delete_cols = [\"1_z\",\"2_z\",\"3_z\",\"4_z\",\"5_z\"]\n",
    "df_total.drop(df_total[delete_cols], axis=1, inplace=True)\n",
    "df_total"
   ]
  },
  {
   "cell_type": "code",
   "execution_count": null,
   "id": "2d43d9fa",
   "metadata": {},
   "outputs": [],
   "source": [
    "plot_cols = [\"aircon\", \"ventilation\", \"office_size_x\", \"office_size_y\", \"exhaust_a\", \"exhaust_b\", \"exhaust_off\", \"RoI\"]\n",
    "# plot_cols = ['1_x','1_y','2_x','2_y','3_x','3_y','4_x','4_y','5_x','5_y',\"RoI\"]\n",
    "# plot_cols = ['1_angle','2_angle','3_angle','4_angle','5_angle',\"RoI\"]\n",
    "scatterplotmatrix(df_total[plot_cols].values, figsize=(20, 20), names=plot_cols, alpha=0.7)\n",
    "plt.tight_layout()\n",
    "plt.show()"
   ]
  },
  {
   "cell_type": "markdown",
   "id": "7fbd8382",
   "metadata": {},
   "source": [
    "外れ値の確認などもここで行っておくとよい．"
   ]
  },
  {
   "cell_type": "code",
   "execution_count": null,
   "id": "5a407e2b",
   "metadata": {},
   "outputs": [],
   "source": [
    "#ピアソンの積率相関係数のヒートマップ（ピアソンの積率相関係数はスケーリングした共分散）\n",
    "cmap = show_mod.make_colormap([\"blue\", \"lightgreen\", \"orange\"])\n",
    "correlationcoefficient = df_total[plot_cols].corr().to_numpy()\n",
    "heat_map = heatmap(correlationcoefficient, figsize=(10, 8), cmap=cmap, row_names=plot_cols, column_names=plot_cols)\n",
    "plt.show()"
   ]
  },
  {
   "cell_type": "markdown",
   "id": "217234b1",
   "metadata": {},
   "source": [
    "# データの前処理 "
   ]
  },
  {
   "cell_type": "code",
   "execution_count": null,
   "id": "0e41f486",
   "metadata": {},
   "outputs": [],
   "source": [
    "#説明変数と目的変数の定義\n",
    "explanatory_variable =['aircon', 'ventilation', '1_x', '1_y', '1_angle', '2_x', '2_y',\n",
    "                       '2_angle', '3_x', '3_y', '3_angle', '4_x', '4_y', '4_angle', '5_x', '5_y', '5_angle',\n",
    "                       'office_size_x','office_size_y', 'exhaust_a', 'exhaust_b', 'exhaust_off']\n",
    "objective_variable = [\"RoI\"]\n",
    "\n",
    "df_explanatory_variable = df_total[explanatory_variable]\n",
    "df_objective_variable = df_total[objective_variable]"
   ]
  },
  {
   "cell_type": "markdown",
   "id": "47b5df97",
   "metadata": {},
   "source": [
    "**標準化について**\\\n",
    "scikit-learnによる線型回帰では勾配降下法に基づく最適化を行わず，scipyの最小二乗法の実装に使用されているLAPACKに基づく高度な最適化手法を利用している．\\\n",
    "そのため使用する変数を標準化する必要がなく，寧ろ標準化しない方が上手く行くらしい．\\\n",
    "勾配降下法適用時に標準化する理由としては特徴量をスケーリングすることで，各特徴量に基づくパラメータ更新幅を揃えることができ，\\\n",
    "結果として誤差関数の収束が早くなったりする．\\\n",
    "標準化を行うべきかどうかは，用いる機械学習アルゴリズムによって異なるため，その都度考える必要がある．"
   ]
  },
  {
   "cell_type": "code",
   "execution_count": null,
   "id": "42825b77",
   "metadata": {},
   "outputs": [],
   "source": [
    "#説明変数の標準化(only explanatory variable)\n",
    "#目的変数は標準化する意味がないため，するべきではない．\n",
    "stdscaler = preprocessing.StandardScaler()\n",
    "stdscaler.fit(df_explanatory_variable)\n",
    "np_explanatory_variable_std = stdscaler.transform(df_explanatory_variable)\n",
    "df_explanatory_variable_std = pd.DataFrame(np_explanatory_variable_std, index=df_explanatory_variable.index, columns=df_explanatory_variable.columns)\n",
    "df_explanatory_variable_std"
   ]
  },
  {
   "cell_type": "code",
   "execution_count": null,
   "id": "124cc7fa",
   "metadata": {},
   "outputs": [],
   "source": [
    "df_explanatory_variable\n",
    "# df_explanatory_variable_std\n",
    "# df_objective_variable"
   ]
  },
  {
   "cell_type": "markdown",
   "id": "b31bc983",
   "metadata": {},
   "source": [
    "**同じ形状のオフィス一覧**\\\n",
    "office1-6\\\n",
    "office7-9\\\n",
    "office10-15\\\n",
    "office16-21\\\n",
    "office22-27\\\n",
    "office28-33"
   ]
  },
  {
   "cell_type": "code",
   "execution_count": null,
   "id": "34b74ccb",
   "metadata": {},
   "outputs": [],
   "source": [
    "#特定のofficeだけテストデータにする\n",
    "target_office_name = [\"office10\"]\n",
    "#正規表現で書いており、.extractはパターンにマッチした最初の文字列のみを抜き出す。office+0-9までの数字1桁または2桁を探索\n",
    "office_list = df_total.index.str.extract(\"(office+[0-9]{1,2})\").to_numpy()\n",
    "print(f\"office list in data:\\n{np.unique(office_list)}\")\n",
    "#リスト内包表記\n",
    "test_data_index = [i for i in range(office_list.shape[0]) if any(office_list[i] == target_office_name)]\n",
    "#test_data_index以外をtrain_data_indexとする\n",
    "train_data_bool = np.ones(office_list.shape[0], dtype = bool)\n",
    "train_data_bool[test_data_index] = False\n",
    "train_data_index = np.arange(office_list.shape[0])[train_data_bool]"
   ]
  },
  {
   "cell_type": "code",
   "execution_count": null,
   "id": "33e20ea8",
   "metadata": {},
   "outputs": [],
   "source": [
    "#各オフィスで分けて統計解析してみる(同じ形状のオフィスだけで関係を見たりしたいときに使う)\n",
    "# plot_cols = [\"aircon\", \"ventilation\", \"office_size_x\", \"office_size_y\", \"exhaust_a\", \"exhaust_b\", \"exhaust_off\", \"RoI\"]\n",
    "plot_cols = ['1_x','1_y','2_x','2_y','3_x','3_y','4_x','4_y','5_x','5_y',\"RoI\"]\n",
    "# plot_cols = ['1_angle','2_angle','3_angle','4_angle','5_angle',\"RoI\"]\n",
    "df_target_office = df_total.iloc[test_data_index]\n",
    "scatterplotmatrix(df_target_office[plot_cols].values, figsize=(20, 20), names=plot_cols, alpha=0.7)\n",
    "plt.tight_layout()\n",
    "plt.show()"
   ]
  },
  {
   "cell_type": "code",
   "execution_count": null,
   "id": "dc6d1f73",
   "metadata": {},
   "outputs": [],
   "source": [
    "#ピアソンの積率相関係数のヒートマップ（ピアソンの積率相関係数はスケーリングした共分散）\n",
    "cmap = show_mod.make_colormap([\"blue\", \"lightgreen\", \"orange\"])\n",
    "correlationcoefficient = df_total[plot_cols].corr().to_numpy()\n",
    "heat_map = heatmap(correlationcoefficient, figsize=(10, 8), cmap=cmap, row_names=plot_cols, column_names=plot_cols)\n",
    "plt.show()"
   ]
  },
  {
   "cell_type": "markdown",
   "id": "c6e99a59",
   "metadata": {},
   "source": [
    "# 回帰分析"
   ]
  },
  {
   "cell_type": "markdown",
   "id": "bf085ea3",
   "metadata": {},
   "source": [
    "# 線形回帰（線形重回帰）"
   ]
  },
  {
   "cell_type": "markdown",
   "id": "73f3d799",
   "metadata": {},
   "source": [
    "今回は説明変数の数が一つではないため単回帰ではなく，重回帰となる．"
   ]
  },
  {
   "cell_type": "code",
   "execution_count": null,
   "id": "e75c8a5d",
   "metadata": {},
   "outputs": [],
   "source": [
    "#使用するデータセットの決定（標準化するか否かなど）\n",
    "#トレーニングデータ、テストデータの振り分け\n",
    "train_explanatory_variable = df_explanatory_variable.iloc[train_data_index]\n",
    "test_explanatory_variable = df_explanatory_variable.iloc[test_data_index]\n",
    "train_objective_variable = df_objective_variable.iloc[train_data_index]\n",
    "test_objective_variable = df_objective_variable.iloc[test_data_index]\n",
    "test_explanatory_variable"
   ]
  },
  {
   "cell_type": "code",
   "execution_count": null,
   "id": "81e156c4",
   "metadata": {},
   "outputs": [],
   "source": [
    "linear_model = LinearRegression()"
   ]
  },
  {
   "cell_type": "code",
   "execution_count": null,
   "id": "93765508",
   "metadata": {},
   "outputs": [],
   "source": [
    "#k分割交差検証の実装\n",
    "#評価指標の決定\n",
    "metrics = [\"r2\", \"neg_mean_squared_error\", \"neg_mean_absolute_error\"]\n",
    "#交差検証の分割方法を決定\n",
    "kf = KFold(n_splits=10, shuffle=True, random_state=1)"
   ]
  },
  {
   "cell_type": "markdown",
   "id": "331bb19c",
   "metadata": {},
   "source": [
    "scikit-learnによる交差検証では，よく\"cross_val_score\"が用いられるがこれは少し古く，\\\n",
    "現在は\"cross_validate\"というものがある．こちらではscoringにリストやタプル，辞書型を用いて複数の評価指標を与えることができる．\\\n",
    "まあfor文を使えばcross_val_scoreでも複数のscoringを使用することは簡単にできるけどね．"
   ]
  },
  {
   "cell_type": "code",
   "execution_count": null,
   "id": "0b9ddf6b",
   "metadata": {},
   "outputs": [],
   "source": [
    "scores = cross_validate(estimator=linear_model, scoring=metrics,\n",
    "                         X=train_explanatory_variable, y=train_objective_variable, \n",
    "                         cv=kf, n_jobs=1, verbose=1, return_train_score=True)\n",
    "pprint.pprint(scores)"
   ]
  },
  {
   "cell_type": "markdown",
   "id": "563fd7e3",
   "metadata": {},
   "source": [
    "n_jobsは使用するcpuの個数．これぐらいの軽い処理なら，分割せず1つでやった方が分割の処理に時間がかからないので逆に早い．"
   ]
  },
  {
   "cell_type": "code",
   "execution_count": null,
   "id": "5f32010d",
   "metadata": {},
   "outputs": [],
   "source": [
    "print(\"交差検証結果の平均値\")\n",
    "print(\"test_r2 score:\", scores[\"test_r2\"].mean())\n",
    "print(\"test_neg_mean_squared_error:\", scores[\"test_neg_mean_squared_error\"].mean())\n",
    "print(\"test_neg_mean_absolute_error:\", scores[\"test_neg_mean_absolute_error\"].mean())"
   ]
  },
  {
   "cell_type": "code",
   "execution_count": null,
   "id": "f6b33135",
   "metadata": {},
   "outputs": [],
   "source": [
    "linear_model.fit(train_explanatory_variable, train_objective_variable)\n",
    "train_pred = linear_model.predict(train_explanatory_variable)\n",
    "test_pred = linear_model.predict(test_explanatory_variable)\n",
    "print(\"テストデータを用いた結果\")\n",
    "print(f\"r2 train score:{linear_model.score(train_explanatory_variable, train_objective_variable)}\")\n",
    "print(f\"MSE train score:{mean_squared_error(train_objective_variable, train_pred)}\")\n",
    "print(f\"r2 test score:{linear_model.score(test_explanatory_variable, test_objective_variable)}\")\n",
    "print(f\"MSE test score:{mean_squared_error(test_objective_variable, test_pred)}\")"
   ]
  },
  {
   "cell_type": "code",
   "execution_count": null,
   "id": "bd7a741a",
   "metadata": {},
   "outputs": [],
   "source": [
    "#正規表現で書いており、.extractはパターンにマッチした最初の文字列のみを抜き出す。office+0-9までの数字1桁または2桁を探索\n",
    "office_list = train_objective_variable.index.str.extract(\"(office+[0-9]{1,2})\").to_numpy()\n",
    "\n",
    "#残差プロット\n",
    "show_mod.show_office_residual_plot(train_x=train_pred, train_y=train_pred-train_objective_variable.to_numpy(), \n",
    "                            test_x=test_pred, test_y=test_pred-test_objective_variable.to_numpy(), \n",
    "                            office_list=office_list)"
   ]
  },
  {
   "cell_type": "markdown",
   "id": "a8c3a1eb",
   "metadata": {},
   "source": [
    "## Lasso回帰"
   ]
  },
  {
   "cell_type": "markdown",
   "id": "26849a63",
   "metadata": {},
   "source": [
    "Lassoは正則化の特徴からパラメータのスケールによってペナルティを与えるので標準化必須"
   ]
  },
  {
   "cell_type": "code",
   "execution_count": null,
   "id": "a20565f0",
   "metadata": {},
   "outputs": [],
   "source": [
    "#使用するデータセットの決定（標準化するか否かなど）\n",
    "#トレーニングデータ、テストデータの振り分け\n",
    "train_explanatory_variable = df_explanatory_variable_std.iloc[train_data_index]\n",
    "test_explanatory_variable = df_explanatory_variable_std.iloc[test_data_index]\n",
    "train_objective_variable = df_objective_variable.iloc[train_data_index]\n",
    "test_objective_variable = df_objective_variable.iloc[test_data_index]\n",
    "test_explanatory_variable\n",
    "test_objective_variable"
   ]
  },
  {
   "cell_type": "code",
   "execution_count": null,
   "id": "9b8eeeda",
   "metadata": {},
   "outputs": [],
   "source": [
    "#ラッソー回帰のインスタンス作成\n",
    "lasso_model = Lasso(alpha=1.0)"
   ]
  },
  {
   "cell_type": "code",
   "execution_count": null,
   "id": "118c7ef3",
   "metadata": {},
   "outputs": [],
   "source": [
    "#k分割交差検証の実装\n",
    "#評価指標の決定\n",
    "metrics = [\"r2\", \"neg_mean_squared_error\", \"neg_mean_absolute_error\"]\n",
    "#交差検証の分割方法を決定\n",
    "kf = KFold(n_splits=10, shuffle=True, random_state=1)"
   ]
  },
  {
   "cell_type": "code",
   "execution_count": null,
   "id": "2cdaaa71",
   "metadata": {},
   "outputs": [],
   "source": [
    "scores = cross_validate(estimator=lasso_model, scoring=metrics,\n",
    "                         X=train_explanatory_variable, y=train_objective_variable, \n",
    "                         cv=kf, n_jobs=1, verbose=1, return_train_score=True)\n",
    "pprint.pprint(scores)"
   ]
  },
  {
   "cell_type": "code",
   "execution_count": null,
   "id": "25b1a492",
   "metadata": {},
   "outputs": [],
   "source": [
    "print(\"交差検証結果の平均値\")\n",
    "print(\"test_r2 score:\", scores[\"test_r2\"].mean())\n",
    "print(\"test_neg_mean_squared_error:\", scores[\"test_neg_mean_squared_error\"].mean())\n",
    "print(\"test_neg_mean_absolute_error:\", scores[\"test_neg_mean_absolute_error\"].mean())"
   ]
  },
  {
   "cell_type": "code",
   "execution_count": null,
   "id": "261ee39f",
   "metadata": {},
   "outputs": [],
   "source": [
    "lasso_model.fit(train_explanatory_variable, train_objective_variable)\n",
    "train_pred = lasso_model.predict(train_explanatory_variable)\n",
    "test_pred = lasso_model.predict(test_explanatory_variable)\n",
    "print(\"テストデータを用いた結果\")\n",
    "print(f\"r2 train score:{lasso_model.score(train_explanatory_variable, train_objective_variable)}\")\n",
    "print(f\"MSE train score:{mean_squared_error(train_objective_variable, train_pred)}\")\n",
    "print(f\"r2 test score:{lasso_model.score(test_explanatory_variable, test_objective_variable)}\")\n",
    "print(f\"MSE test score:{mean_squared_error(test_objective_variable, test_pred)}\")"
   ]
  },
  {
   "cell_type": "code",
   "execution_count": null,
   "id": "43d12cff",
   "metadata": {},
   "outputs": [],
   "source": [
    "#正規表現で書いており、.extractはパターンにマッチした最初の文字列のみを抜き出す。office+0-9までの数字1桁または2桁を探索\n",
    "office_list = train_objective_variable.index.str.extract(\"(office+[0-9]{1,2})\").to_numpy()\n",
    "\n",
    "show_mod.show_office_residual_plot(train_x=train_pred, train_y=train_pred-train_objective_variable.to_numpy().reshape(-1), \n",
    "                            test_x=test_pred, test_y=test_pred-test_objective_variable.to_numpy().reshape(-1), \n",
    "                            office_list=office_list)"
   ]
  },
  {
   "cell_type": "markdown",
   "id": "f13b5361",
   "metadata": {},
   "source": [
    "### optunaと交差検証を使用したハイパーパラメータ調整（自動最適化）"
   ]
  },
  {
   "cell_type": "code",
   "execution_count": null,
   "id": "57f15a03",
   "metadata": {},
   "outputs": [],
   "source": [
    "class Objective:\n",
    "    def __init__(self, X, y):\n",
    "        self.X = X\n",
    "        self.y = y\n",
    "        \n",
    "    def __call__(self, trial):\n",
    "        #ハイパーパラメータの値設定\n",
    "        params = {\n",
    "            \"alpha\" : trial.suggest_loguniform(\"alpha\", 0.0001, 10),\n",
    "            \"max_iter\" : trial.suggest_int(\"max_iter\", 100, 100000)\n",
    "        }\n",
    "        \n",
    "        #**keywardargs(可変個数の変数をkeyと共に与えられる)\n",
    "        model = Lasso(**params)\n",
    "        \n",
    "        #最適化実行時の評価指標の決定\n",
    "        metrics = [\"r2\"]\n",
    "        \n",
    "        #交差検証の分割方法を決定\n",
    "        kf = KFold(n_splits=10, shuffle=True, random_state=1)\n",
    "        \n",
    "        #評価指標の決定，k分割交差検証の実装\n",
    "        scores = cross_validate(estimator=model, scoring=metrics,\n",
    "                         X=self.X, y=self.y, \n",
    "                         cv=kf, n_jobs=1, verbose=0, return_train_score=True)\n",
    "        \n",
    "        return scores[\"test_r2\"].mean()\n",
    "        \n",
    "        #複数の目的関数を戻り値とする\n",
    "#         return scores[\"test_r2\"].mean(), scores[\"test_neg_mean_squared_error\"].mean()"
   ]
  },
  {
   "cell_type": "code",
   "execution_count": null,
   "id": "798e1df4",
   "metadata": {},
   "outputs": [],
   "source": [
    "control_log = ControlLog()\n",
    "sqlite_path = control_log.set_log()\n",
    "study_name = control_log.decide_filename()\n",
    "model_name = \"Lasso\"\n",
    "\n",
    "#ハイパーパラメータの探索\n",
    "objective = Objective(X=train_explanatory_variable, y=train_objective_variable)\n",
    "\n",
    "#計算資源があるときはランダムサーチ，無ければTPESampler\n",
    "#storageのパスにすでにDBファイルがあれば，それを読み込むのがload_if_exists\n",
    "study = optuna.create_study(directions=[\"maximize\"], study_name=model_name+\"_\"+study_name[0],\n",
    "                            sampler=optuna.samplers.RandomSampler(), pruner=optuna.pruners.MedianPruner(),\n",
    "                            storage=sqlite_path, load_if_exists=True)\n",
    "\n",
    "\"\"\"\n",
    "複数の目的関数を持つときはmulti_objectiveモジュールを使用する\n",
    "複数の目的関数を最適化するのは多目的最適化と呼ばれ，専用の最適化アルゴリズムを指定する必要がある．単一目的関数の場合と比較する必要があるかもしれない．\n",
    "directionは目的関数がどうなるように最適化したいか．samplerが多目的最適化アルゴリズム．defaultはNSGAIIMultiObjectiveSampler\n",
    "\"\"\"\n",
    "\n",
    "# study = optuna.multi_objective.create_study(directions=[\"maximize\", \"minimize\"],\n",
    "#                                             sampler=optuna.multi_objective.samplers.NSGAIIMultiObjectiveSampler(seed=1), \n",
    "#                                             storage=sqlite_path, load_if_exists=True)\n",
    "\n",
    "#最適化の実行．n_trialsは何回実行するか．指定しなければできるだけやる．他にもtimeoutは計算にかける時間の上限値を秒単位で指定できる\n",
    "#n_trialsまたはtimeoutのどちらかは指定したほうが良い．でないと永遠に計算し続け，pcが重くなる．\n",
    "study.optimize(objective, n_trials=None, timeout=60, n_jobs=-1)\n",
    "\n",
    "#ハンドラの削除．これを行わないとログファイルが上書きされる．\n",
    "control_log.kill_handler()"
   ]
  },
  {
   "cell_type": "code",
   "execution_count": null,
   "id": "c396f1f8",
   "metadata": {},
   "outputs": [],
   "source": [
    "#探索の結果最も良かったscore\n",
    "print(f\"best score: {study.best_value}\")\n",
    "print(f\"best params: {study.best_params}\")"
   ]
  },
  {
   "cell_type": "code",
   "execution_count": null,
   "id": "b6468e4c",
   "metadata": {},
   "outputs": [],
   "source": [
    "#決定したハイパーパラメータを使用して全訓練データで学習，評価\n",
    "\n",
    "best_model = Lasso(alpha=study.best_params[\"alpha\"], max_iter=study.best_params[\"max_iter\"])\n",
    "best_model.fit(train_explanatory_variable, train_objective_variable)\n",
    "train_pred = best_model.predict(train_explanatory_variable)\n",
    "test_pred = best_model.predict(test_explanatory_variable)\n",
    "print(\"テストデータを用いた結果\")\n",
    "print(f\"r2 train score:{best_model.score(train_explanatory_variable, train_objective_variable)}\")\n",
    "print(f\"MSE train score:{mean_squared_error(train_objective_variable, train_pred)}\")\n",
    "print(f\"r2 test score:{best_model.score(test_explanatory_variable, test_objective_variable)}\")\n",
    "print(f\"MSE test score:{mean_squared_error(test_objective_variable, test_pred)}\")\n",
    "\n",
    "\n",
    "#正規表現で書いており、.extractはパターンにマッチした最初の文字列のみを抜き出す。office+0-9までの数字1桁または2桁を探索\n",
    "office_list = train_objective_variable.index.str.extract(\"(office+[0-9]{1,2})\").to_numpy()\n",
    "#予測結果の残差プロット\n",
    "show_mod.show_office_residual_plot(train_x=train_pred, train_y=train_pred-train_objective_variable.to_numpy().reshape(-1), \n",
    "                            test_x=test_pred, test_y=test_pred-test_objective_variable.to_numpy().reshape(-1), \n",
    "                            office_list=office_list)"
   ]
  },
  {
   "cell_type": "markdown",
   "id": "c420c36e",
   "metadata": {},
   "source": [
    "## Ridge回帰"
   ]
  },
  {
   "cell_type": "code",
   "execution_count": null,
   "id": "ffe0ef5f",
   "metadata": {},
   "outputs": [],
   "source": [
    "#使用するデータセットの決定（標準化するか否かなど）\n",
    "#トレーニングデータ、テストデータの振り分け\n",
    "train_explanatory_variable = df_explanatory_variable_std.iloc[train_data_index]\n",
    "test_explanatory_variable = df_explanatory_variable_std.iloc[test_data_index]\n",
    "train_objective_variable = df_objective_variable.iloc[train_data_index]\n",
    "test_objective_variable = df_objective_variable.iloc[test_data_index]\n",
    "test_explanatory_variable\n",
    "test_objective_variable"
   ]
  },
  {
   "cell_type": "code",
   "execution_count": null,
   "id": "e14e50d1",
   "metadata": {},
   "outputs": [],
   "source": [
    "#リッジ回帰のインスタンス作成\n",
    "ridge_model = Ridge(alpha=1.0)"
   ]
  },
  {
   "cell_type": "code",
   "execution_count": null,
   "id": "c04c4c90",
   "metadata": {},
   "outputs": [],
   "source": [
    "#k分割交差検証の実装\n",
    "#評価指標の決定\n",
    "metrics = [\"r2\", \"neg_mean_squared_error\", \"neg_mean_absolute_error\"]\n",
    "#交差検証の分割方法を決定\n",
    "kf = KFold(n_splits=10, shuffle=True, random_state=1)"
   ]
  },
  {
   "cell_type": "code",
   "execution_count": null,
   "id": "8152def9",
   "metadata": {},
   "outputs": [],
   "source": [
    "scores = cross_validate(estimator=ridge_model, scoring=metrics,\n",
    "                         X=train_explanatory_variable, y=train_objective_variable, \n",
    "                         cv=kf, n_jobs=1, verbose=1, return_train_score=True)\n",
    "pprint.pprint(scores)"
   ]
  },
  {
   "cell_type": "code",
   "execution_count": null,
   "id": "561425da",
   "metadata": {},
   "outputs": [],
   "source": [
    "print(\"交差検証結果の平均値\")\n",
    "print(\"test_r2 score:\", scores[\"test_r2\"].mean())\n",
    "print(\"test_neg_mean_squared_error:\", scores[\"test_neg_mean_squared_error\"].mean())\n",
    "print(\"test_neg_mean_absolute_error:\", scores[\"test_neg_mean_absolute_error\"].mean())"
   ]
  },
  {
   "cell_type": "code",
   "execution_count": null,
   "id": "5cb29d32",
   "metadata": {},
   "outputs": [],
   "source": [
    "ridge_model.fit(train_explanatory_variable, train_objective_variable)\n",
    "train_pred = ridge_model.predict(train_explanatory_variable)\n",
    "test_pred = ridge_model.predict(test_explanatory_variable)\n",
    "print(\"テストデータを用いた結果\")\n",
    "print(f\"r2 train score:{lasso_model.score(train_explanatory_variable, train_objective_variable)}\")\n",
    "print(f\"MSE train score:{mean_squared_error(train_objective_variable, train_pred)}\")\n",
    "print(f\"r2 test score:{lasso_model.score(test_explanatory_variable, test_objective_variable)}\")\n",
    "print(f\"MSE test score:{mean_squared_error(test_objective_variable, test_pred)}\")"
   ]
  },
  {
   "cell_type": "code",
   "execution_count": null,
   "id": "05ca3d0a",
   "metadata": {},
   "outputs": [],
   "source": [
    "#正規表現で書いており、.extractはパターンにマッチした最初の文字列のみを抜き出す。office+0-9までの数字1桁または2桁を探索\n",
    "office_list = train_objective_variable.index.str.extract(\"(office+[0-9]{1,2})\").to_numpy()\n",
    "\n",
    "show_mod.show_office_residual_plot(train_x=train_pred, train_y=train_pred-train_objective_variable.to_numpy(), \n",
    "                            test_x=test_pred, test_y=test_pred-test_objective_variable.to_numpy(), \n",
    "                            office_list=office_list)"
   ]
  },
  {
   "cell_type": "markdown",
   "id": "a306df4c",
   "metadata": {},
   "source": [
    "### optunaと交差検証を使用したハイパーパラメータ調整（自動最適化）"
   ]
  },
  {
   "cell_type": "code",
   "execution_count": null,
   "id": "c54e3378",
   "metadata": {},
   "outputs": [],
   "source": [
    "class Objective:\n",
    "    def __init__(self, X, y):\n",
    "        self.X = X\n",
    "        self.y = y\n",
    "        \n",
    "    def __call__(self, trial):\n",
    "        #ハイパーパラメータの値設定\n",
    "        params = {\n",
    "            \"alpha\" : trial.suggest_loguniform(\"alpha\", 0.0001, 10),\n",
    "            \"max_iter\" : trial.suggest_int(\"max_iter\", 100, 100000),\n",
    "            \"solver\" : \"auto\",\n",
    "            \"positive\" : False\n",
    "        }\n",
    "        \n",
    "        #**keywardargs(可変個数の変数をkeyと共に与えられる)\n",
    "        model = Ridge(**params)\n",
    "        \n",
    "        #最適化実行時の評価指標の決定\n",
    "        metrics = [\"r2\"]\n",
    "        \n",
    "        #交差検証の分割方法を決定\n",
    "        kf = KFold(n_splits=10, shuffle=True, random_state=1)\n",
    "        \n",
    "        #評価指標の決定，k分割交差検証の実装\n",
    "        scores = cross_validate(estimator=model, scoring=metrics,\n",
    "                         X=self.X, y=self.y, \n",
    "                         cv=kf, n_jobs=1, verbose=0, return_train_score=True)\n",
    "        \n",
    "        return scores[\"test_r2\"].mean()"
   ]
  },
  {
   "cell_type": "code",
   "execution_count": null,
   "id": "3072bf19",
   "metadata": {},
   "outputs": [],
   "source": [
    "control_log = ControlLog()\n",
    "sqlite_path = control_log.set_log()\n",
    "study_name = control_log.decide_filename()\n",
    "model_name = \"Ridge\"\n",
    "\n",
    "#ハイパーパラメータの探索\n",
    "objective = Objective(X=train_explanatory_variable, y=train_objective_variable)\n",
    "\n",
    "#計算資源があるときはランダムサーチ，無ければTPESampler\n",
    "#storageのパスにすでにDBファイルがあれば，それを読み込むのがload_if_exists\n",
    "study = optuna.create_study(directions=[\"maximize\"], study_name=model_name+\"_\"+study_name[0],\n",
    "                            sampler=optuna.samplers.RandomSampler(), pruner=optuna.pruners.MedianPruner(),\n",
    "                            storage=sqlite_path, load_if_exists=True)\n",
    "\n",
    "\"\"\"\n",
    "複数の目的関数を持つときはmulti_objectiveモジュールを使用する\n",
    "複数の目的関数を最適化するのは多目的最適化と呼ばれ，専用の最適化アルゴリズムを指定する必要がある．単一目的関数の場合と比較する必要があるかもしれない．\n",
    "directionは目的関数がどうなるように最適化したいか．samplerが多目的最適化アルゴリズム．defaultはNSGAIIMultiObjectiveSampler\n",
    "\"\"\"\n",
    "\n",
    "# study = optuna.multi_objective.create_study(directions=[\"maximize\", \"minimize\"],\n",
    "#                                             sampler=optuna.multi_objective.samplers.NSGAIIMultiObjectiveSampler(seed=1), \n",
    "#                                             storage=sqlite_path, load_if_exists=True)\n",
    "\n",
    "#最適化の実行．n_trialsは何回実行するか．指定しなければできるだけやる．他にもtimeoutは計算にかける時間の上限値を秒単位で指定できる\n",
    "#n_trialsまたはtimeoutのどちらかは指定したほうが良い．でないと永遠に計算し続け，pcが重くなる．\n",
    "study.optimize(objective, n_trials=None, timeout=60, n_jobs=-1)\n",
    "\n",
    "#ハンドラの削除．これを行わないとログファイルが上書きされる．\n",
    "control_log.kill_handler()"
   ]
  },
  {
   "cell_type": "code",
   "execution_count": null,
   "id": "805a4845",
   "metadata": {},
   "outputs": [],
   "source": [
    "#探索の結果最も良かったscore\n",
    "print(f\"best score: {study.best_value}\")\n",
    "print(f\"best params: {study.best_params}\")"
   ]
  },
  {
   "cell_type": "code",
   "execution_count": null,
   "id": "d3571471",
   "metadata": {},
   "outputs": [],
   "source": [
    "#決定したハイパーパラメータを使用して全訓練データで学習，評価\n",
    "\n",
    "best_model = Ridge(alpha=study.best_params[\"alpha\"], max_iter=study.best_params[\"max_iter\"])\n",
    "best_model.fit(train_explanatory_variable, train_objective_variable)\n",
    "train_pred = best_model.predict(train_explanatory_variable)\n",
    "test_pred = best_model.predict(test_explanatory_variable)\n",
    "print(\"テストデータを用いた結果\")\n",
    "print(f\"r2 train score:{best_model.score(train_explanatory_variable, train_objective_variable)}\")\n",
    "print(f\"MSE train score:{mean_squared_error(train_objective_variable, train_pred)}\")\n",
    "print(f\"r2 test score:{best_model.score(test_explanatory_variable, test_objective_variable)}\")\n",
    "print(f\"MSE test score:{mean_squared_error(test_objective_variable, test_pred)}\")\n",
    "\n",
    "\n",
    "#正規表現で書いており、.extractはパターンにマッチした最初の文字列のみを抜き出す。office+0-9までの数字1桁または2桁を探索\n",
    "office_list = train_objective_variable.index.str.extract(\"(office+[0-9]{1,2})\").to_numpy()\n",
    "#予測結果の残差プロット\n",
    "show_mod.show_office_residual_plot(train_x=train_pred, train_y=train_pred-train_objective_variable.to_numpy(), \n",
    "                            test_x=test_pred, test_y=test_pred-test_objective_variable.to_numpy(), \n",
    "                            office_list=office_list)"
   ]
  },
  {
   "cell_type": "markdown",
   "id": "3a4d15f7",
   "metadata": {},
   "source": [
    "## ElasticNet"
   ]
  },
  {
   "cell_type": "code",
   "execution_count": null,
   "id": "d33b1b0b",
   "metadata": {},
   "outputs": [],
   "source": [
    "#エラスティックネットのインスタンス作成\n",
    "elasticnet_model = ElasticNet(alpha=1.0, l1_ratio=0.5)）"
   ]
  },
  {
   "cell_type": "code",
   "execution_count": null,
   "id": "7e1bd5d7",
   "metadata": {},
   "outputs": [],
   "source": [
    "#k分割交差検証の実装\n",
    "#評価指標の決定\n",
    "metrics = [\"r2\", \"neg_mean_squared_error\", \"neg_mean_absolute_error\"]\n",
    "#交差検証の分割方法を決定\n",
    "kf = KFold(n_splits=10, shuffle=True, random_state=1)"
   ]
  },
  {
   "cell_type": "code",
   "execution_count": null,
   "id": "b6babd4e",
   "metadata": {},
   "outputs": [],
   "source": [
    "scores = cross_validate(estimator=elasticnet_model, scoring=metrics,\n",
    "                         X=train_explanatory_variable, y=train_objective_variable, \n",
    "                         cv=kf, n_jobs=1, verbose=1, return_train_score=True)\n",
    "pprint.pprint(scores)"
   ]
  },
  {
   "cell_type": "code",
   "execution_count": null,
   "id": "464684ed",
   "metadata": {},
   "outputs": [],
   "source": [
    "print(\"交差検証結果の平均値\")\n",
    "print(\"test_r2 score:\", scores[\"test_r2\"].mean())\n",
    "print(\"test_neg_mean_squared_error:\", scores[\"test_neg_mean_squared_error\"].mean())\n",
    "print(\"test_neg_mean_absolute_error:\", scores[\"test_neg_mean_absolute_error\"].mean())"
   ]
  },
  {
   "cell_type": "code",
   "execution_count": null,
   "id": "d9774230",
   "metadata": {},
   "outputs": [],
   "source": [
    "elasticnet_model.fit(train_explanatory_variable, train_objective_variable)\n",
    "train_pred = elasticnet_model.predict(train_explanatory_variable)\n",
    "test_pred = elasticnet_model.predict(test_explanatory_variable)"
   ]
  },
  {
   "cell_type": "code",
   "execution_count": null,
   "id": "57e437d4",
   "metadata": {},
   "outputs": [],
   "source": [
    "#正規表現で書いており、.extractはパターンにマッチした最初の文字列のみを抜き出す。office+0-9までの数字1桁または2桁を探索\n",
    "office_list = train_objective_variable.index.str.extract(\"(office+[0-9]{1,2})\").to_numpy()\n",
    "\n",
    "show_mod.show_office_residual_plot(train_x=train_pred, train_y=train_pred-train_objective_variable.to_numpy().reshape(-1), \n",
    "                            test_x=test_pred, test_y=test_pred-test_objective_variable.to_numpy().reshape(-1), \n",
    "                            office_list=office_list)"
   ]
  },
  {
   "cell_type": "markdown",
   "id": "34b96f9c",
   "metadata": {},
   "source": [
    "# 多項式回帰"
   ]
  },
  {
   "cell_type": "markdown",
   "id": "acdf370b",
   "metadata": {},
   "source": [
    "## 多項式線形重回帰"
   ]
  },
  {
   "cell_type": "code",
   "execution_count": null,
   "id": "89b703ab",
   "metadata": {},
   "outputs": [],
   "source": [
    "#使用するデータセットの決定（標準化するか否かなど）\n",
    "#トレーニングデータ、テストデータの振り分け\n",
    "train_explanatory_variable = df_explanatory_variable_std.iloc[train_data_index]\n",
    "test_explanatory_variable = df_explanatory_variable_std.iloc[test_data_index]\n",
    "train_objective_variable = df_objective_variable.iloc[train_data_index]\n",
    "test_objective_variable = df_objective_variable.iloc[test_data_index]\n",
    "train_explanatory_variable\n",
    "# test_objective_variable"
   ]
  },
  {
   "cell_type": "code",
   "execution_count": null,
   "id": "27ae0973",
   "metadata": {},
   "outputs": [],
   "source": [
    "#パイプラインの構築，attributeにアクセスできなくなったりするので使わない．やっぱ使う\n",
    "def PolynomialRegression(n_components, degree, **kwargs):\n",
    "    return make_pipeline(PCA(n_components=n_components), preprocessing.PolynomialFeatures(degree=degree), LinearRegression(**kwargs))"
   ]
  },
  {
   "cell_type": "code",
   "execution_count": null,
   "id": "21bf8d63",
   "metadata": {},
   "outputs": [],
   "source": [
    "#各主成分の分散説明率\n",
    "pca = PCA(n_components=None)\n",
    "pca.fit(train_explanatory_variable)\n",
    "pca.explained_variance_ratio_"
   ]
  },
  {
   "cell_type": "markdown",
   "id": "e50f78da",
   "metadata": {},
   "source": [
    "メモ：\\\n",
    "説明変数の数が22個もある．このまま多項式化しようとすると，項数が多すぎてメモリエラーとなり実行できない．（いけてdegree=5くらい）\\\n",
    "そのため説明変数を主成分分析によって減らした後，多項式回帰を実装してみようと思う．\\\n",
    "分散説明率の値からデータに大きく寄与しているのは大体11個位の成分なのでn_components=11でやってみる"
   ]
  },
  {
   "cell_type": "code",
   "execution_count": null,
   "id": "a9d650bc",
   "metadata": {},
   "outputs": [],
   "source": [
    "#多項式化したときの大きさを確認\n",
    "degree = 10\n",
    "poly_model = preprocessing.PolynomialFeatures(degree=degree)\n",
    "train_explanatory_variable_pca_poly = poly_model.fit_transform(train_explanatory_variable_pca)\n",
    "train_explanatory_variable_pca_poly.shape"
   ]
  },
  {
   "cell_type": "code",
   "execution_count": null,
   "id": "232ba68f",
   "metadata": {},
   "outputs": [],
   "source": [
    "#多項式化したときの項を確認\n",
    "poly_model.get_feature_names(train_explanatory_variable.columns)"
   ]
  },
  {
   "cell_type": "code",
   "execution_count": null,
   "id": "62577cec",
   "metadata": {},
   "outputs": [],
   "source": [
    "pca = PCA(n_components=11)\n",
    "pca.fit(train_explanatory_variable)\n",
    "train_explanatory_variable_pca = pd.DataFrame(pca.transform(train_explanatory_variable))"
   ]
  },
  {
   "cell_type": "code",
   "execution_count": null,
   "id": "ee69bdea",
   "metadata": {},
   "outputs": [],
   "source": [
    "class Objective:\n",
    "    def __init__(self, X, y):\n",
    "        #oputunaの最適化実行時に元データをそのまま参照しているとメモリの開放ができない\n",
    "        self.X = X\n",
    "        self.y = y\n",
    "        \n",
    "    def __call__(self, trial):\n",
    "        #ハイパーパラメータの値設定\n",
    "        n_components = trial.suggest_int(\"n_components\", 1, 11)\n",
    "        degree = trial.suggest_int(\"degree\", 1, 5)#*argsにはiterableオブジェクトつまり，繰り返しができるtupleの形で与える必要がある\n",
    "#         kwargs = {\n",
    "#         }\n",
    "\n",
    "        model = PolynomialRegression(n_components=n_components, degree=degree)\n",
    "        \n",
    "        #最適化実行時の評価指標の決定\n",
    "        metrics = [\"r2\"]\n",
    "        \n",
    "        #交差検証の分割方法を決定\n",
    "        kf = KFold(n_splits=10, shuffle=True, random_state=1)\n",
    "        \n",
    "        #評価指標の決定，k分割交差検証の実装\n",
    "        scores = cross_validate(estimator=model, scoring=metrics,\n",
    "                         X=self.X, y=self.y, \n",
    "                         cv=kf, n_jobs=1, verbose=0, return_train_score=False)\n",
    "        \n",
    "        return scores[\"test_r2\"].mean()"
   ]
  },
  {
   "cell_type": "code",
   "execution_count": null,
   "id": "6d6577f6",
   "metadata": {},
   "outputs": [],
   "source": [
    "control_log = ControlLog()\n",
    "sqlite_path = control_log.set_log()\n",
    "study_name = control_log.decide_filename()\n",
    "model_name = \"Poly_Linear\"\n",
    "\n",
    "#ハイパーパラメータの探索\n",
    "objective = Objective(X=train_explanatory_variable, y=train_objective_variable)\n",
    "\n",
    "#計算資源があるときはランダムサーチ，無ければTPESampler\n",
    "#storageのパスにすでにDBファイルがあれば，それを読み込むのがload_if_exists\n",
    "study = optuna.create_study(directions=[\"maximize\"], study_name=model_name+\"_\"+study_name[0],\n",
    "                            sampler=optuna.samplers.RandomSampler(), pruner=optuna.pruners.MedianPruner(),\n",
    "                            storage=sqlite_path, load_if_exists=True)\n",
    "\n",
    "print(f\"sutdy name: {study_name[0]}\")\n",
    "\n",
    "#最適化の実行．n_trialsは何回実行するか．指定しなければできるだけやる．他にもtimeoutは計算にかける時間の上限値を秒単位で指定できる\n",
    "#n_trialsまたはtimeoutのどちらかは指定したほうが良い．でないと永遠に計算し続け，pcが重くなる．\n",
    "study.optimize(objective, n_trials=None, timeout=120, n_jobs=-1)\n",
    "# study.optimize(objective, n_trials=10000, timeout=None, n_jobs=5)\n",
    "\n",
    "#ハンドラの削除．これを行わないとログファイルが上書きされる．\n",
    "control_log.kill_handler()"
   ]
  },
  {
   "cell_type": "code",
   "execution_count": null,
   "id": "427c7eee",
   "metadata": {},
   "outputs": [],
   "source": [
    "#探索の結果最も良かったscore\n",
    "print(\"探索の結果最良のモデル\")\n",
    "print(f\"best score: {study.best_value}\")\n",
    "print(f\"best params: {study.best_params}\")"
   ]
  },
  {
   "cell_type": "code",
   "execution_count": null,
   "id": "dff6f73a",
   "metadata": {},
   "outputs": [],
   "source": [
    "#決定したハイパーパラメータを使用して全訓練データで学習，評価\n",
    "\n",
    "best_model = PolynomialRegression(n_components=study.best_params[\"n_components\"], degree=study.best_params[\"degree\"])\n",
    "best_model.fit(train_explanatory_variable, train_objective_variable)\n",
    "train_pred = best_model.predict(train_explanatory_variable)\n",
    "test_pred = best_model.predict(test_explanatory_variable)\n",
    "print(\"テストデータを用いた結果\")\n",
    "print(f\"r2 train score:{best_model.score(train_explanatory_variable, train_objective_variable)}\")\n",
    "print(f\"MSE train score:{mean_squared_error(train_objective_variable, train_pred)}\")\n",
    "print(f\"r2 test score:{best_model.score(test_explanatory_variable, test_objective_variable)}\")\n",
    "print(f\"MSE test score:{mean_squared_error(test_objective_variable, test_pred)}\")\n",
    "\n",
    "\n",
    "#正規表現で書いており、.extractはパターンにマッチした最初の文字列のみを抜き出す。office+0-9までの数字1桁または2桁を探索\n",
    "office_list = train_objective_variable.index.str.extract(\"(office+[0-9]{1,2})\").to_numpy()\n",
    "#予測結果の残差プロット\n",
    "show_mod.show_office_residual_plot(train_x=train_pred, train_y=train_pred-train_objective_variable.to_numpy(), \n",
    "                            test_x=test_pred, test_y=test_pred-test_objective_variable.to_numpy(), \n",
    "                            office_list=office_list)"
   ]
  },
  {
   "cell_type": "markdown",
   "id": "2e613b09",
   "metadata": {},
   "source": [
    "超過学習．テストデータには一切適応できず．\\\n",
    "データ数を増やす，同じオフィス形状だけで試すなどすれば改善する可能性あり"
   ]
  },
  {
   "cell_type": "markdown",
   "id": "a7b7a2b6",
   "metadata": {},
   "source": [
    "## Lasso"
   ]
  },
  {
   "cell_type": "code",
   "execution_count": null,
   "id": "dd057c2f",
   "metadata": {},
   "outputs": [],
   "source": [
    "#使用するデータセットの決定（標準化するか否かなど）\n",
    "#トレーニングデータ、テストデータの振り分け\n",
    "train_explanatory_variable = df_explanatory_variable_std.iloc[train_data_index]\n",
    "test_explanatory_variable = df_explanatory_variable_std.iloc[test_data_index]\n",
    "train_objective_variable = df_objective_variable.iloc[train_data_index]\n",
    "test_objective_variable = df_objective_variable.iloc[test_data_index]\n",
    "test_explanatory_variable\n",
    "test_objective_variable"
   ]
  },
  {
   "cell_type": "code",
   "execution_count": null,
   "id": "b5782a33",
   "metadata": {},
   "outputs": [],
   "source": [
    "#パイプラインの構築\n",
    "def LassoRegression(n_components, degree, **kwargs):\n",
    "    return make_pipeline(PCA(n_components=n_components), preprocessing.PolynomialFeatures(degree=degree), Lasso(**kwargs))"
   ]
  },
  {
   "cell_type": "code",
   "execution_count": null,
   "id": "e73f685d",
   "metadata": {},
   "outputs": [],
   "source": [
    "class Objective:\n",
    "    \n",
    "    def __init__(self, X, y, n_trials):\n",
    "        #クラスにしとくとX,yをインスタンス変数にできるので，メモリを圧迫しないような気がする\n",
    "        self.X = X\n",
    "        self.y = y\n",
    "        \n",
    "        #tqdm関連の設定\n",
    "        self.bar = tqdm(total = n_trials)\n",
    "        self.bar.set_description('Progress rate')\n",
    "        \n",
    "    def __call__(self, trial):\n",
    "        #ハイパーパラメータの値設定\n",
    "        n_components = trial.suggest_int(\"n_components\", 1, 11)\n",
    "        degree = trial.suggest_int(\"degree\", 1, 5)\n",
    "        kwargs = {\n",
    "            \"alpha\" : trial.suggest_loguniform(\"alpha\", 0.0001, 10),\n",
    "            \"max_iter\" : trial.suggest_int(\"max_iter\", 1000, 100000)\n",
    "        }\n",
    "        \n",
    "        #**keywardargs(可変個数の変数をkeyと共に与えられる)\n",
    "        model = LassoRegression(n_components=n_components, degree=degree, **kwargs)\n",
    "        \n",
    "        #最適化実行時の評価指標の決定\n",
    "        metrics = [\"r2\"]\n",
    "        \n",
    "        #交差検証の分割方法を決定\n",
    "        kf = KFold(n_splits=10, shuffle=True, random_state=1)\n",
    "        \n",
    "        #評価指標の決定，k分割交差検証の実装\n",
    "        scores = cross_validate(estimator=model, scoring=metrics,\n",
    "                         X=self.X, y=self.y, \n",
    "                         cv=kf, n_jobs=1, verbose=0, return_train_score=False)\n",
    "        \n",
    "        self.bar.update(1)\n",
    "        \n",
    "        return scores[\"test_r2\"].mean()"
   ]
  },
  {
   "cell_type": "code",
   "execution_count": null,
   "id": "d73721d0",
   "metadata": {},
   "outputs": [],
   "source": [
    "control_log = ControlLog()\n",
    "sqlite_path = control_log.set_log()\n",
    "study_name = control_log.decide_filename()\n",
    "model_name = \"Poly_Lasso\"\n",
    "\n",
    "#訓練時のパラメータ設定\n",
    "n_trials=200\n",
    "timeout=None\n",
    "n_jobs=-1\n",
    "\n",
    "\"\"\"\n",
    "最後のcontrol_log.kill_handler()が回らないとログが不必要に上書きされるので例外処理で最後まで必ず回るようにする．\n",
    "exceptがtry内でエラーが生じたときの処理内容\n",
    "finallyはtry内でエラーが生じたとき，生じなかったときどちらも動く処理\n",
    "\"\"\"\n",
    "try:\n",
    "    #ハイパーパラメータの探索\n",
    "    objective = Objective(X=train_explanatory_variable, y=train_objective_variable, n_trials=n_trials)\n",
    "\n",
    "    #計算資源があるときはランダムサーチ，無ければTPESampler\n",
    "    #storageのパスにすでにDBファイルがあれば，それを読み込むのがload_if_exists\n",
    "    study = optuna.create_study(directions=[\"maximize\"], study_name=model_name+\"_\"+study_name[0],\n",
    "                                sampler=optuna.samplers.RandomSampler(), pruner=optuna.pruners.MedianPruner(),\n",
    "                                storage=sqlite_path, load_if_exists=True)\n",
    "\n",
    "    print(f\"study name: {study_name[0]}\")\n",
    "\n",
    "    #最適化の実行．n_trialsは何回実行するか．指定しなければできるだけやる．他にもtimeoutは計算にかける時間の上限値を秒単位で指定できる\n",
    "    #n_trialsまたはtimeoutのどちらかは指定したほうが良い．でないと永遠に計算し続け，pcが重くなる．\n",
    "    study.optimize(objective, n_trials=n_trials, timeout=timeout, n_jobs=n_jobs)\n",
    "\n",
    "except Exception as error:\n",
    "    print(error)\n",
    "\n",
    "finally:\n",
    "    #ハンドラの削除．これを行わないとログファイルが上書きされる．\n",
    "    control_log.kill_handler()"
   ]
  },
  {
   "cell_type": "code",
   "execution_count": null,
   "id": "ddc63821",
   "metadata": {},
   "outputs": [],
   "source": [
    "#探索の結果最も良かったscoreとパラメータの表示\n",
    "print(\"探索の結果最良のモデル\")\n",
    "print(f\"best score: {study.best_value}\")\n",
    "print(f\"best params: {study.best_params}\")"
   ]
  },
  {
   "cell_type": "code",
   "execution_count": null,
   "id": "6a431fb5",
   "metadata": {},
   "outputs": [],
   "source": [
    "#決定したハイパーパラメータを使用して全訓練データで学習，評価\n",
    "\n",
    "best_model = LassoRegression(n_components=study.best_params[\"n_components\"], degree=study.best_params[\"degree\"], \n",
    "                             alpha=study.best_params[\"alpha\"], max_iter=study.best_params[\"max_iter\"])\n",
    "best_model.fit(train_explanatory_variable, train_objective_variable)\n",
    "train_pred = best_model.predict(train_explanatory_variable)\n",
    "test_pred = best_model.predict(test_explanatory_variable)\n",
    "print(\"テストデータを用いた結果\")\n",
    "print(f\"r2 train score:{best_model.score(train_explanatory_variable, train_objective_variable)}\")\n",
    "print(f\"MSE train score:{mean_squared_error(train_objective_variable, train_pred)}\")\n",
    "print(f\"r2 test score:{best_model.score(test_explanatory_variable, test_objective_variable)}\")\n",
    "print(f\"MSE test score:{mean_squared_error(test_objective_variable, test_pred)}\")\n",
    "\n",
    "\n",
    "#正規表現で書いており、.extractはパターンにマッチした最初の文字列のみを抜き出す。office+0-9までの数字1桁または2桁を探索\n",
    "office_list = train_objective_variable.index.str.extract(\"(office+[0-9]{1,2})\").to_numpy()\n",
    "#予測結果の残差プロット\n",
    "show_mod.show_office_residual_plot(train_x=train_pred, train_y=train_pred-train_objective_variable.to_numpy().reshape(-1), \n",
    "                            test_x=test_pred, test_y=test_pred-test_objective_variable.to_numpy().reshape(-1), \n",
    "                            office_list=office_list)"
   ]
  },
  {
   "cell_type": "markdown",
   "id": "c726f60f",
   "metadata": {},
   "source": [
    "トレーニングデータに関するフィッティングはかなり良くなっている\\\n",
    "しかしテストデータに関してはまだ厳しい"
   ]
  },
  {
   "cell_type": "markdown",
   "id": "25e3faed",
   "metadata": {},
   "source": [
    "## Ridge"
   ]
  },
  {
   "cell_type": "code",
   "execution_count": null,
   "id": "34a078bb",
   "metadata": {},
   "outputs": [],
   "source": [
    "#使用するデータセットの決定（標準化するか否かなど）\n",
    "#トレーニングデータ、テストデータの振り分け\n",
    "train_explanatory_variable = df_explanatory_variable_std.iloc[train_data_index]\n",
    "test_explanatory_variable = df_explanatory_variable_std.iloc[test_data_index]\n",
    "train_objective_variable = df_objective_variable.iloc[train_data_index]\n",
    "test_objective_variable = df_objective_variable.iloc[test_data_index]\n",
    "test_explanatory_variable\n",
    "test_objective_variable"
   ]
  },
  {
   "cell_type": "code",
   "execution_count": null,
   "id": "39912613",
   "metadata": {},
   "outputs": [],
   "source": [
    "#パイプラインの構築\n",
    "def RidgeRegression(n_components, degree, **kwargs):\n",
    "    return make_pipeline(PCA(n_components=n_components), preprocessing.PolynomialFeatures(degree=degree), Ridge(**kwargs))"
   ]
  },
  {
   "cell_type": "code",
   "execution_count": null,
   "id": "8f8881f2",
   "metadata": {},
   "outputs": [],
   "source": [
    "class Objective:\n",
    "    \n",
    "    def __init__(self, X, y, n_trials):\n",
    "        self.X = X\n",
    "        self.y = y\n",
    "        \n",
    "        #tqdm関連の設定\n",
    "        self.bar = tqdm(total = n_trials)\n",
    "        self.bar.set_description('Progress rate')\n",
    "        \n",
    "    def __call__(self, trial):\n",
    "        #ハイパーパラメータの値設定\n",
    "        n_components = trial.suggest_int(\"n_components\", 1, 11)\n",
    "        degree = trial.suggest_int(\"degree\", 1, 5)\n",
    "        kwargs = {\n",
    "            \"alpha\" : trial.suggest_loguniform(\"alpha\", 0.0001, 10),\n",
    "            \"max_iter\" : trial.suggest_int(\"max_iter\", 1000, 100000),\n",
    "            \"solver\" : \"auto\",\n",
    "            \"positive\" : False\n",
    "        }\n",
    "        \n",
    "        #**keywardargs(可変個数の変数をkeyと共に与えられる)\n",
    "        model = RidgeRegression(n_components=n_components, degree=degree, **kwargs)\n",
    "        \n",
    "        #最適化実行時の評価指標の決定\n",
    "        metrics = [\"r2\"]\n",
    "        \n",
    "        #交差検証の分割方法を決定\n",
    "        kf = KFold(n_splits=10, shuffle=True, random_state=1)\n",
    "        \n",
    "        #評価指標の決定，k分割交差検証の実装\n",
    "        scores = cross_validate(estimator=model, scoring=metrics,\n",
    "                         X=self.X, y=self.y, \n",
    "                         cv=kf, n_jobs=1, verbose=0, return_train_score=False)\n",
    "        \n",
    "        self.bar.update(1)\n",
    "        \n",
    "        return scores[\"test_r2\"].mean()"
   ]
  },
  {
   "cell_type": "code",
   "execution_count": null,
   "id": "897f2638",
   "metadata": {},
   "outputs": [],
   "source": [
    "control_log = ControlLog()\n",
    "sqlite_path = control_log.set_log()\n",
    "study_name = control_log.decide_filename()\n",
    "model_name = \"Poly_Ridge\"\n",
    "\n",
    "#訓練時のパラメータ設定\n",
    "n_trials=200\n",
    "timeout=None\n",
    "n_jobs=-1\n",
    "\n",
    "\"\"\"\n",
    "最後のcontrol_log.kill_handler()が回らないとログが不必要に上書きされるので例外処理で最後まで必ず回るようにする．\n",
    "exceptがtry内でエラーが生じたときの処理内容\n",
    "finallyはtry内でエラーが生じたとき，生じなかったときどちらも動く処理\n",
    "\"\"\"\n",
    "try:\n",
    "    #ハイパーパラメータの探索\n",
    "    objective = Objective(X=train_explanatory_variable, y=train_objective_variable, n_trials=n_trials)\n",
    "\n",
    "    #計算資源があるときはランダムサーチ，無ければTPESampler\n",
    "    #storageのパスにすでにDBファイルがあれば，それを読み込むのがload_if_exists\n",
    "    study = optuna.create_study(directions=[\"maximize\"], study_name=model_name+\"_\"+study_name[0],\n",
    "                                sampler=optuna.samplers.RandomSampler(), pruner=optuna.pruners.MedianPruner(),\n",
    "                                storage=sqlite_path, load_if_exists=True)\n",
    "\n",
    "    print(f\"study name: {study_name[0]}\")\n",
    "\n",
    "    #最適化の実行．n_trialsは何回実行するか．指定しなければできるだけやる．他にもtimeoutは計算にかける時間の上限値を秒単位で指定できる\n",
    "    #n_trialsまたはtimeoutのどちらかは指定したほうが良い．でないと永遠に計算し続け，pcが重くなる．\n",
    "    study.optimize(objective, n_trials=n_trials, timeout=timeout, n_jobs=n_jobs)\n",
    "\n",
    "except Exception as error:\n",
    "    print(error)\n",
    "\n",
    "finally:\n",
    "    #ハンドラの削除．これを行わないとログファイルが上書きされる．\n",
    "    control_log.kill_handler()"
   ]
  },
  {
   "cell_type": "code",
   "execution_count": null,
   "id": "49d82d1c",
   "metadata": {},
   "outputs": [],
   "source": [
    "#探索の結果最も良かったscoreとパラメータの表示\n",
    "print(\"探索の結果最良のモデル\")\n",
    "print(f\"best score: {study.best_value}\")\n",
    "print(f\"best params: {study.best_params}\")"
   ]
  },
  {
   "cell_type": "code",
   "execution_count": null,
   "id": "f51e6949",
   "metadata": {},
   "outputs": [],
   "source": [
    "#決定したハイパーパラメータを使用して全訓練データで学習，評価\n",
    "\n",
    "best_model = RidgeRegression(n_components=study.best_params[\"n_components\"], degree=study.best_params[\"degree\"], \n",
    "                             alpha=study.best_params[\"alpha\"], max_iter=study.best_params[\"max_iter\"])\n",
    "best_model.fit(train_explanatory_variable, train_objective_variable)\n",
    "train_pred = best_model.predict(train_explanatory_variable)\n",
    "test_pred = best_model.predict(test_explanatory_variable)\n",
    "print(\"テストデータを用いた結果\")\n",
    "print(f\"r2 train score:{best_model.score(train_explanatory_variable, train_objective_variable)}\")\n",
    "print(f\"MSE train score:{mean_squared_error(train_objective_variable, train_pred)}\")\n",
    "print(f\"r2 test score:{best_model.score(test_explanatory_variable, test_objective_variable)}\")\n",
    "print(f\"MSE test score:{mean_squared_error(test_objective_variable, test_pred)}\")\n",
    "\n",
    "\n",
    "#正規表現で書いており、.extractはパターンにマッチした最初の文字列のみを抜き出す。office+0-9までの数字1桁または2桁を探索\n",
    "office_list = train_objective_variable.index.str.extract(\"(office+[0-9]{1,2})\").to_numpy()\n",
    "#予測結果の残差プロット\n",
    "show_mod.show_office_residual_plot(train_x=train_pred, train_y=train_pred-train_objective_variable.to_numpy(), \n",
    "                            test_x=test_pred, test_y=test_pred-test_objective_variable.to_numpy(), \n",
    "                            office_list=office_list)"
   ]
  },
  {
   "cell_type": "markdown",
   "id": "e349d764",
   "metadata": {},
   "source": [
    "## ElasticNet"
   ]
  },
  {
   "cell_type": "code",
   "execution_count": null,
   "id": "e4d044a6",
   "metadata": {},
   "outputs": [],
   "source": [
    "#使用するデータセットの決定（標準化するか否かなど）\n",
    "#トレーニングデータ、テストデータの振り分け\n",
    "train_explanatory_variable = df_explanatory_variable_std.iloc[train_data_index]\n",
    "test_explanatory_variable = df_explanatory_variable_std.iloc[test_data_index]\n",
    "train_objective_variable = df_objective_variable.iloc[train_data_index]\n",
    "test_objective_variable = df_objective_variable.iloc[test_data_index]\n",
    "test_explanatory_variable\n",
    "test_objective_variable"
   ]
  },
  {
   "cell_type": "code",
   "execution_count": null,
   "id": "31cc6206",
   "metadata": {},
   "outputs": [],
   "source": [
    "#パイプラインの構築\n",
    "def ElasticNetRegression(n_components, degree, **kwargs):\n",
    "    return make_pipeline(PCA(n_components=n_components), preprocessing.PolynomialFeatures(degree=degree), ElasticNet(**kwargs))"
   ]
  },
  {
   "cell_type": "code",
   "execution_count": null,
   "id": "295de35b",
   "metadata": {},
   "outputs": [],
   "source": [
    "class Objective:\n",
    "    \n",
    "    def __init__(self, X, y, n_trials):\n",
    "        self.X = X\n",
    "        self.y = y\n",
    "        \n",
    "        #tqdm関連の設定\n",
    "        self.bar = tqdm(total = n_trials)\n",
    "        self.bar.set_description('Progress rate')\n",
    "        \n",
    "    def __call__(self, trial):\n",
    "        #ハイパーパラメータの値設定\n",
    "        n_components = trial.suggest_int(\"n_components\", 1, 11)\n",
    "        degree = trial.suggest_int(\"degree\", 1, 5)\n",
    "        kwargs = {\n",
    "            \"l1_ratio\" : trial.suggest_float(\"l1_ratio\", 0, 1),\n",
    "            \"max_iter\" : trial.suggest_int(\"max_iter\", 1000, 100000),\n",
    "        }\n",
    "        \n",
    "        #**keywardargs(可変個数の変数をkeyと共に与えられる)\n",
    "        model = ElasticNetRegression(n_components=n_components, degree=degree, **kwargs)\n",
    "        \n",
    "        #最適化実行時の評価指標の決定\n",
    "        metrics = [\"r2\"]\n",
    "        \n",
    "        #交差検証の分割方法を決定\n",
    "        kf = KFold(n_splits=10, shuffle=True, random_state=1)\n",
    "        \n",
    "        #評価指標の決定，k分割交差検証の実装\n",
    "        scores = cross_validate(estimator=model, scoring=metrics,\n",
    "                         X=self.X, y=self.y, \n",
    "                         cv=kf, n_jobs=1, verbose=0, return_train_score=False)\n",
    "        \n",
    "        self.bar.update(1)\n",
    "        \n",
    "        return scores[\"test_r2\"].mean()"
   ]
  },
  {
   "cell_type": "code",
   "execution_count": null,
   "id": "bfa7ba5e",
   "metadata": {},
   "outputs": [],
   "source": [
    "model_name = \"Poly_ElasticNet\"\n",
    "#前回の続きから最適化を開始するかのスイッチ．Trueでリスタートする．\n",
    "restart_switch = True\n",
    "\n",
    "if restart_switch:\n",
    "    #前回の続きから最適化を開始してみる(sutdy_nameが残っていないとできない．study_nameが残っていないときはoptunaログから自分で調査して与えればok)\n",
    "#     study_name = \n",
    "    study = optuna.load_study(study_name=model_name+\"_\"+study_name[0], storage=sqlite_path)\n",
    "    study.trials_dataframe()\n",
    "    control_log = ControlLog()\n",
    "    sqlite_path = control_log.set_log(*study_name)\n",
    "    \n",
    "else:\n",
    "    control_log = ControlLog()\n",
    "    sqlite_path = control_log.set_log()\n",
    "    study_name = control_log.decide_filename()\n",
    "\n",
    "\n",
    "#訓練時のパラメータ設定\n",
    "n_trials=200\n",
    "timeout=None\n",
    "n_jobs=-1\n",
    "\n",
    "\"\"\"\n",
    "最後のcontrol_log.kill_handler()が回らないとログが不必要に上書きされるので例外処理で最後まで必ず回るようにする．\n",
    "exceptがtry内でエラーが生じたときの処理内容\n",
    "finallyはtry内でエラーが生じたとき，生じなかったときどちらも動く処理\n",
    "\"\"\"\n",
    "try:\n",
    "    #ハイパーパラメータの探索\n",
    "    objective = Objective(X=train_explanatory_variable, y=train_objective_variable, n_trials=n_trials)\n",
    "\n",
    "    #計算資源があるときはランダムサーチ，無ければTPESampler\n",
    "    #storageのパスにすでにDBファイルがあれば，それを読み込むのがload_if_exists\n",
    "    study = optuna.create_study(directions=[\"maximize\"], study_name=model_name+\"_\"+study_name[0],\n",
    "                                sampler=optuna.samplers.RandomSampler(), pruner=optuna.pruners.MedianPruner(),\n",
    "                                storage=sqlite_path, load_if_exists=True)\n",
    "\n",
    "    print(f\"study name: {study_name[0]}\")\n",
    "\n",
    "    #最適化の実行．n_trialsは何回実行するか．指定しなければできるだけやる．他にもtimeoutは計算にかける時間の上限値を秒単位で指定できる\n",
    "    #n_trialsまたはtimeoutのどちらかは指定したほうが良い．でないと永遠に計算し続け，pcが重くなる．\n",
    "    study.optimize(objective, n_trials=n_trials, timeout=timeout, n_jobs=n_jobs)\n",
    "\n",
    "except Exception as error:\n",
    "    print(error)\n",
    "\n",
    "finally:\n",
    "    #ハンドラの削除．これを行わないとログファイルが上書きされる．\n",
    "    control_log.kill_handler()"
   ]
  },
  {
   "cell_type": "code",
   "execution_count": null,
   "id": "d22857a5",
   "metadata": {},
   "outputs": [],
   "source": [
    "#探索の結果最も良かったscoreとパラメータの表示\n",
    "print(\"探索の結果最良のモデル\")\n",
    "print(f\"best score: {study.best_value}\")\n",
    "print(f\"best params: {study.best_params}\")"
   ]
  },
  {
   "cell_type": "code",
   "execution_count": null,
   "id": "c7e1157e",
   "metadata": {},
   "outputs": [],
   "source": [
    "#決定したハイパーパラメータを使用して全訓練データで学習，評価\n",
    "\n",
    "best_model = ElasticNetRegression(n_components=study.best_params[\"n_components\"], degree=study.best_params[\"degree\"], \n",
    "                             alpha=study.best_params[\"l1_ratio\"], max_iter=study.best_params[\"max_iter\"])\n",
    "best_model.fit(train_explanatory_variable, train_objective_variable)\n",
    "train_pred = best_model.predict(train_explanatory_variable)\n",
    "test_pred = best_model.predict(test_explanatory_variable)\n",
    "print(\"テストデータを用いた結果\")\n",
    "print(f\"r2 train score:{best_model.score(train_explanatory_variable, train_objective_variable)}\")\n",
    "print(f\"MSE train score:{mean_squared_error(train_objective_variable, train_pred)}\")\n",
    "print(f\"r2 test score:{best_model.score(test_explanatory_variable, test_objective_variable)}\")\n",
    "print(f\"MSE test score:{mean_squared_error(test_objective_variable, test_pred)}\")\n",
    "\n",
    "\n",
    "#正規表現で書いており、.extractはパターンにマッチした最初の文字列のみを抜き出す。office+0-9までの数字1桁または2桁を探索\n",
    "office_list = train_objective_variable.index.str.extract(\"(office+[0-9]{1,2})\").to_numpy()\n",
    "#予測結果の残差プロット\n",
    "show_mod.show_office_residual_plot(train_x=train_pred, train_y=train_pred-train_objective_variable.to_numpy().reshape(-1), \n",
    "                            test_x=test_pred, test_y=test_pred-test_objective_variable.to_numpy().reshape(-1), \n",
    "                            office_list=office_list)"
   ]
  },
  {
   "cell_type": "code",
   "execution_count": null,
   "id": "1038af7a",
   "metadata": {},
   "outputs": [],
   "source": []
  },
  {
   "cell_type": "markdown",
   "id": "c732a0d2",
   "metadata": {},
   "source": [
    "# サポートベクター回帰"
   ]
  },
  {
   "cell_type": "code",
   "execution_count": null,
   "id": "feba3fd9",
   "metadata": {},
   "outputs": [],
   "source": []
  },
  {
   "cell_type": "code",
   "execution_count": null,
   "id": "fa7ee564",
   "metadata": {},
   "outputs": [],
   "source": []
  },
  {
   "cell_type": "code",
   "execution_count": null,
   "id": "fe793184",
   "metadata": {},
   "outputs": [],
   "source": []
  },
  {
   "cell_type": "code",
   "execution_count": null,
   "id": "57456140",
   "metadata": {},
   "outputs": [],
   "source": []
  },
  {
   "cell_type": "code",
   "execution_count": null,
   "id": "01fd76ca",
   "metadata": {},
   "outputs": [],
   "source": []
  },
  {
   "cell_type": "markdown",
   "id": "abb6b271",
   "metadata": {},
   "source": [
    "### todo\n",
    "* データ数とバイアス，バリアンスの関係を評価（データ数の問題がわかる可能性あり）\n",
    "* 学習曲線の描画(optuna-dashboardを使用するとなるとsqliteの勉強が必要)\n",
    "* MSE等の評価指標の取得は最終的な訓練後だけでいいかなと思っている（最適化中はいらないかな）\n",
    "* 座標の対称移動などによるデータ数の増加はやってみる価値あり"
   ]
  },
  {
   "cell_type": "code",
   "execution_count": null,
   "id": "398d3982",
   "metadata": {},
   "outputs": [],
   "source": []
  },
  {
   "cell_type": "code",
   "execution_count": null,
   "id": "73b660de",
   "metadata": {},
   "outputs": [],
   "source": []
  },
  {
   "cell_type": "code",
   "execution_count": null,
   "id": "2fb72cd8",
   "metadata": {},
   "outputs": [],
   "source": []
  }
 ],
 "metadata": {
  "kernelspec": {
   "display_name": "Python 3 (ipykernel)",
   "language": "python",
   "name": "python3"
  },
  "language_info": {
   "codemirror_mode": {
    "name": "ipython",
    "version": 3
   },
   "file_extension": ".py",
   "mimetype": "text/x-python",
   "name": "python",
   "nbconvert_exporter": "python",
   "pygments_lexer": "ipython3",
   "version": "3.8.10"
  }
 },
 "nbformat": 4,
 "nbformat_minor": 5
}
