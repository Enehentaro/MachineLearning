{
 "cells": [
  {
   "cell_type": "code",
   "execution_count": 1,
   "id": "8753724b-30a6-4bad-a8d8-5f87a079a273",
   "metadata": {},
   "outputs": [],
   "source": [
    "import glob\n",
    "import numpy as np\n",
    "import pandas as pd\n",
    "from modules import show_mod"
   ]
  },
  {
   "cell_type": "code",
   "execution_count": 2,
   "id": "e52efbbb-b89a-436b-aaf2-de969a2a09fa",
   "metadata": {},
   "outputs": [
    {
     "name": "stdout",
     "output_type": "stream",
     "text": [
      "['data/office2/RiskOfInfection/660_246_aout/BoxCount.csv', 'data/office2/RiskOfInfection/360_246_bout/BoxCount.csv', 'data/office2/RiskOfInfection/0_0/BoxCount.csv', 'data/office2/RiskOfInfection/360_82_bout/BoxCount.csv', 'data/office2/RiskOfInfection/0_246_aout/BoxCount.csv', 'data/office2/RiskOfInfection/360_164_aout/BoxCount.csv', 'data/office2/RiskOfInfection/660_246_bout/BoxCount.csv', 'data/office2/RiskOfInfection/0_164_aout/BoxCount.csv', 'data/office2/RiskOfInfection/660_0/BoxCount.csv', 'data/office2/RiskOfInfection/360_164_bout/BoxCount.csv', 'data/office2/RiskOfInfection/960_246_bout/BoxCount.csv', 'data/office2/RiskOfInfection/0_82_bout/BoxCount.csv', 'data/office2/RiskOfInfection/960_82_bout/BoxCount.csv', 'data/office2/RiskOfInfection/960_164_bout/BoxCount.csv', 'data/office2/RiskOfInfection/960_82_aout/BoxCount.csv', 'data/office2/RiskOfInfection/0_164_bout/BoxCount.csv', 'data/office2/RiskOfInfection/0_82_aout/BoxCount.csv', 'data/office2/RiskOfInfection/0_246_bout/BoxCount.csv', 'data/office2/RiskOfInfection/360_0/BoxCount.csv', 'data/office2/RiskOfInfection/660_82_bout/BoxCount.csv', 'data/office2/RiskOfInfection/660_164_bout/BoxCount.csv', 'data/office2/RiskOfInfection/360_246_aout/BoxCount.csv', 'data/office2/RiskOfInfection/360_82_aout/BoxCount.csv', 'data/office2/RiskOfInfection/960_246_aout/BoxCount.csv', 'data/office2/RiskOfInfection/660_82_aout/BoxCount.csv', 'data/office2/RiskOfInfection/960_164_aout/BoxCount.csv', 'data/office2/RiskOfInfection/960_0/BoxCount.csv', 'data/office2/RiskOfInfection/660_164_aout/BoxCount.csv']\n",
      "['data/office7/RiskOfInfection/660_246_aout/BoxCount.csv', 'data/office7/RiskOfInfection/360_246_bout/BoxCount.csv', 'data/office7/RiskOfInfection/0_0/BoxCount.csv', 'data/office7/RiskOfInfection/360_82_bout/BoxCount.csv', 'data/office7/RiskOfInfection/0_246_aout/BoxCount.csv', 'data/office7/RiskOfInfection/360_164_aout/BoxCount.csv', 'data/office7/RiskOfInfection/660_246_bout/BoxCount.csv', 'data/office7/RiskOfInfection/0_164_aout/BoxCount.csv', 'data/office7/RiskOfInfection/660_0/BoxCount.csv', 'data/office7/RiskOfInfection/360_164_bout/BoxCount.csv', 'data/office7/RiskOfInfection/960_246_bout/BoxCount.csv', 'data/office7/RiskOfInfection/0_82_bout/BoxCount.csv', 'data/office7/RiskOfInfection/960_82_bout/BoxCount.csv', 'data/office7/RiskOfInfection/960_164_bout/BoxCount.csv', 'data/office7/RiskOfInfection/960_82_aout/BoxCount.csv', 'data/office7/RiskOfInfection/0_164_bout/BoxCount.csv', 'data/office7/RiskOfInfection/0_82_aout/BoxCount.csv', 'data/office7/RiskOfInfection/0_246_bout/BoxCount.csv', 'data/office7/RiskOfInfection/360_0/BoxCount.csv', 'data/office7/RiskOfInfection/660_82_bout/BoxCount.csv', 'data/office7/RiskOfInfection/660_164_bout/BoxCount.csv', 'data/office7/RiskOfInfection/360_246_aout/BoxCount.csv', 'data/office7/RiskOfInfection/360_82_aout/BoxCount.csv', 'data/office7/RiskOfInfection/960_246_aout/BoxCount.csv', 'data/office7/RiskOfInfection/660_82_aout/BoxCount.csv', 'data/office7/RiskOfInfection/960_164_aout/BoxCount.csv', 'data/office7/RiskOfInfection/960_0/BoxCount.csv', 'data/office7/RiskOfInfection/660_164_aout/BoxCount.csv']\n",
      "['data/office1/RiskOfInfection/660_246_aout/BoxCount.csv', 'data/office1/RiskOfInfection/0_0/BoxCount.csv', 'data/office1/RiskOfInfection/960_41_bout/BoxCount.csv', 'data/office1/RiskOfInfection/660_205_bout/BoxCount.csv', 'data/office1/RiskOfInfection/0_246_aout/BoxCount.csv', 'data/office1/RiskOfInfection/960_41_aout/BoxCount.csv', 'data/office1/RiskOfInfection/660_246_bout/BoxCount.csv', 'data/office1/RiskOfInfection/660_41_aout/BoxCount.csv', 'data/office1/RiskOfInfection/660_123_aout/BoxCount.csv', 'data/office1/RiskOfInfection/0_164_aout/BoxCount.csv', 'data/office1/RiskOfInfection/660_0/BoxCount.csv', 'data/office1/RiskOfInfection/0_123_aout/BoxCount.csv', 'data/office1/RiskOfInfection/960_205_aout/BoxCount.csv', 'data/office1/RiskOfInfection/660_205_aout/BoxCount.csv', 'data/office1/RiskOfInfection/960_246_bout/BoxCount.csv', 'data/office1/RiskOfInfection/660_123_bout/BoxCount.csv', 'data/office1/RiskOfInfection/0_82_bout/BoxCount.csv', 'data/office1/RiskOfInfection/960_82_bout/BoxCount.csv', 'data/office1/RiskOfInfection/960_123_bout/BoxCount.csv', 'data/office1/RiskOfInfection/960_164_bout/BoxCount.csv', 'data/office1/RiskOfInfection/960_82_aout/BoxCount.csv', 'data/office1/RiskOfInfection/0_164_bout/BoxCount.csv', 'data/office1/RiskOfInfection/0_82_aout/BoxCount.csv', 'data/office1/RiskOfInfection/0_246_bout/BoxCount.csv', 'data/office1/RiskOfInfection/0_123_bout/BoxCount.csv', 'data/office1/RiskOfInfection/660_82_bout/BoxCount.csv', 'data/office1/RiskOfInfection/660_164_bout/BoxCount.csv', 'data/office1/RiskOfInfection/0_41_aout/BoxCount.csv', 'data/office1/RiskOfInfection/0_205_bout/BoxCount.csv', 'data/office1/RiskOfInfection/960_123_aout/BoxCount.csv', 'data/office1/RiskOfInfection/960_246_aout/BoxCount.csv', 'data/office1/RiskOfInfection/660_82_aout/BoxCount.csv', 'data/office1/RiskOfInfection/960_205_bout/BoxCount.csv', 'data/office1/RiskOfInfection/960_164_aout/BoxCount.csv', 'data/office1/RiskOfInfection/0_41_bout/BoxCount.csv', 'data/office1/RiskOfInfection/660_41_bout/BoxCount.csv', 'data/office1/RiskOfInfection/960_0/BoxCount.csv', 'data/office1/RiskOfInfection/0_205_aout/BoxCount.csv', 'data/office1/RiskOfInfection/660_164_aout/BoxCount.csv']\n",
      "['data/office10/RiskOfInfection/660_246_aout/BoxCount.csv', 'data/office10/RiskOfInfection/360_246_bout/BoxCount.csv', 'data/office10/RiskOfInfection/0_0/BoxCount.csv', 'data/office10/RiskOfInfection/360_82_bout/BoxCount.csv', 'data/office10/RiskOfInfection/0_246_aout/BoxCount.csv', 'data/office10/RiskOfInfection/360_164_aout/BoxCount.csv', 'data/office10/RiskOfInfection/660_246_bout/BoxCount.csv', 'data/office10/RiskOfInfection/0_164_aout/BoxCount.csv', 'data/office10/RiskOfInfection/660_0/BoxCount.csv', 'data/office10/RiskOfInfection/360_164_bout/BoxCount.csv', 'data/office10/RiskOfInfection/960_246_bout/BoxCount.csv', 'data/office10/RiskOfInfection/0_82_bout/BoxCount.csv', 'data/office10/RiskOfInfection/960_82_bout/BoxCount.csv', 'data/office10/RiskOfInfection/960_164_bout/BoxCount.csv', 'data/office10/RiskOfInfection/960_82_aout/BoxCount.csv', 'data/office10/RiskOfInfection/0_164_bout/BoxCount.csv', 'data/office10/RiskOfInfection/0_82_aout/BoxCount.csv', 'data/office10/RiskOfInfection/0_246_bout/BoxCount.csv', 'data/office10/RiskOfInfection/360_0/BoxCount.csv', 'data/office10/RiskOfInfection/660_82_bout/BoxCount.csv', 'data/office10/RiskOfInfection/660_164_bout/BoxCount.csv', 'data/office10/RiskOfInfection/360_246_aout/BoxCount.csv', 'data/office10/RiskOfInfection/360_82_aout/BoxCount.csv', 'data/office10/RiskOfInfection/960_246_aout/BoxCount.csv', 'data/office10/RiskOfInfection/660_82_aout/BoxCount.csv', 'data/office10/RiskOfInfection/960_164_aout/BoxCount.csv', 'data/office10/RiskOfInfection/960_0/BoxCount.csv', 'data/office10/RiskOfInfection/660_164_aout/BoxCount.csv']\n",
      "['data/office22/RiskOfInfection/660_246_aout/BoxCount.csv', 'data/office22/RiskOfInfection/360_246_bout/BoxCount.csv', 'data/office22/RiskOfInfection/0_0/BoxCount.csv', 'data/office22/RiskOfInfection/360_82_bout/BoxCount.csv', 'data/office22/RiskOfInfection/0_246_aout/BoxCount.csv', 'data/office22/RiskOfInfection/360_164_aout/BoxCount.csv', 'data/office22/RiskOfInfection/660_246_bout/BoxCount.csv', 'data/office22/RiskOfInfection/0_164_aout/BoxCount.csv', 'data/office22/RiskOfInfection/660_0/BoxCount.csv', 'data/office22/RiskOfInfection/360_164_bout/BoxCount.csv', 'data/office22/RiskOfInfection/960_246_bout/BoxCount.csv', 'data/office22/RiskOfInfection/0_82_bout/BoxCount.csv', 'data/office22/RiskOfInfection/960_82_bout/BoxCount.csv', 'data/office22/RiskOfInfection/960_164_bout/BoxCount.csv', 'data/office22/RiskOfInfection/960_82_aout/BoxCount.csv', 'data/office22/RiskOfInfection/0_164_bout/BoxCount.csv', 'data/office22/RiskOfInfection/0_82_aout/BoxCount.csv', 'data/office22/RiskOfInfection/0_246_bout/BoxCount.csv', 'data/office22/RiskOfInfection/360_0/BoxCount.csv', 'data/office22/RiskOfInfection/660_82_bout/BoxCount.csv', 'data/office22/RiskOfInfection/660_164_bout/BoxCount.csv', 'data/office22/RiskOfInfection/360_246_aout/BoxCount.csv', 'data/office22/RiskOfInfection/360_82_aout/BoxCount.csv', 'data/office22/RiskOfInfection/960_246_aout/BoxCount.csv', 'data/office22/RiskOfInfection/660_82_aout/BoxCount.csv', 'data/office22/RiskOfInfection/960_164_aout/BoxCount.csv', 'data/office22/RiskOfInfection/960_0/BoxCount.csv', 'data/office22/RiskOfInfection/660_164_aout/BoxCount.csv']\n",
      "['data/office3/RiskOfInfection/660_246_aout/BoxCount.csv', 'data/office3/RiskOfInfection/360_246_bout/BoxCount.csv', 'data/office3/RiskOfInfection/0_0/BoxCount.csv', 'data/office3/RiskOfInfection/360_82_bout/BoxCount.csv', 'data/office3/RiskOfInfection/0_246_aout/BoxCount.csv', 'data/office3/RiskOfInfection/360_164_aout/BoxCount.csv', 'data/office3/RiskOfInfection/660_246_bout/BoxCount.csv', 'data/office3/RiskOfInfection/0_164_aout/BoxCount.csv', 'data/office3/RiskOfInfection/660_0/BoxCount.csv', 'data/office3/RiskOfInfection/360_164_bout/BoxCount.csv', 'data/office3/RiskOfInfection/960_246_bout/BoxCount.csv', 'data/office3/RiskOfInfection/0_82_bout/BoxCount.csv', 'data/office3/RiskOfInfection/960_82_bout/BoxCount.csv', 'data/office3/RiskOfInfection/960_164_bout/BoxCount.csv', 'data/office3/RiskOfInfection/960_82_aout/BoxCount.csv', 'data/office3/RiskOfInfection/0_164_bout/BoxCount.csv', 'data/office3/RiskOfInfection/0_82_aout/BoxCount.csv', 'data/office3/RiskOfInfection/0_246_bout/BoxCount.csv', 'data/office3/RiskOfInfection/360_0/BoxCount.csv', 'data/office3/RiskOfInfection/660_82_bout/BoxCount.csv', 'data/office3/RiskOfInfection/660_164_bout/BoxCount.csv', 'data/office3/RiskOfInfection/360_246_aout/BoxCount.csv', 'data/office3/RiskOfInfection/360_82_aout/BoxCount.csv', 'data/office3/RiskOfInfection/960_246_aout/BoxCount.csv', 'data/office3/RiskOfInfection/660_82_aout/BoxCount.csv', 'data/office3/RiskOfInfection/960_164_aout/BoxCount.csv', 'data/office3/RiskOfInfection/960_0/BoxCount.csv', 'data/office3/RiskOfInfection/660_164_aout/BoxCount.csv']\n",
      "['data/office15/RiskOfInfection/660_246_aout/BoxCount.csv', 'data/office15/RiskOfInfection/360_246_bout/BoxCount.csv', 'data/office15/RiskOfInfection/0_0/BoxCount.csv', 'data/office15/RiskOfInfection/360_82_bout/BoxCount.csv', 'data/office15/RiskOfInfection/0_246_aout/BoxCount.csv', 'data/office15/RiskOfInfection/360_164_aout/BoxCount.csv', 'data/office15/RiskOfInfection/660_246_bout/BoxCount.csv', 'data/office15/RiskOfInfection/0_164_aout/BoxCount.csv', 'data/office15/RiskOfInfection/660_0/BoxCount.csv', 'data/office15/RiskOfInfection/360_164_bout/BoxCount.csv', 'data/office15/RiskOfInfection/960_246_bout/BoxCount.csv', 'data/office15/RiskOfInfection/0_82_bout/BoxCount.csv', 'data/office15/RiskOfInfection/960_82_bout/BoxCount.csv', 'data/office15/RiskOfInfection/960_164_bout/BoxCount.csv', 'data/office15/RiskOfInfection/960_82_aout/BoxCount.csv', 'data/office15/RiskOfInfection/0_164_bout/BoxCount.csv', 'data/office15/RiskOfInfection/0_82_aout/BoxCount.csv', 'data/office15/RiskOfInfection/0_246_bout/BoxCount.csv', 'data/office15/RiskOfInfection/360_0/BoxCount.csv', 'data/office15/RiskOfInfection/660_82_bout/BoxCount.csv', 'data/office15/RiskOfInfection/660_164_bout/BoxCount.csv', 'data/office15/RiskOfInfection/360_246_aout/BoxCount.csv', 'data/office15/RiskOfInfection/360_82_aout/BoxCount.csv', 'data/office15/RiskOfInfection/960_246_aout/BoxCount.csv', 'data/office15/RiskOfInfection/660_82_aout/BoxCount.csv', 'data/office15/RiskOfInfection/960_164_aout/BoxCount.csv', 'data/office15/RiskOfInfection/960_0/BoxCount.csv', 'data/office15/RiskOfInfection/660_164_aout/BoxCount.csv']\n",
      "['data/office16/RiskOfInfection/660_246_aout/BoxCount.csv', 'data/office16/RiskOfInfection/360_246_bout/BoxCount.csv', 'data/office16/RiskOfInfection/0_0/BoxCount.csv', 'data/office16/RiskOfInfection/360_82_bout/BoxCount.csv', 'data/office16/RiskOfInfection/0_246_aout/BoxCount.csv', 'data/office16/RiskOfInfection/360_164_aout/BoxCount.csv', 'data/office16/RiskOfInfection/660_246_bout/BoxCount.csv', 'data/office16/RiskOfInfection/0_164_aout/BoxCount.csv', 'data/office16/RiskOfInfection/660_0/BoxCount.csv', 'data/office16/RiskOfInfection/360_164_bout/BoxCount.csv', 'data/office16/RiskOfInfection/960_246_bout/BoxCount.csv', 'data/office16/RiskOfInfection/0_82_bout/BoxCount.csv', 'data/office16/RiskOfInfection/960_82_bout/BoxCount.csv', 'data/office16/RiskOfInfection/960_164_bout/BoxCount.csv', 'data/office16/RiskOfInfection/960_82_aout/BoxCount.csv', 'data/office16/RiskOfInfection/0_164_bout/BoxCount.csv', 'data/office16/RiskOfInfection/0_82_aout/BoxCount.csv', 'data/office16/RiskOfInfection/0_246_bout/BoxCount.csv', 'data/office16/RiskOfInfection/360_0/BoxCount.csv', 'data/office16/RiskOfInfection/660_82_bout/BoxCount.csv', 'data/office16/RiskOfInfection/660_164_bout/BoxCount.csv', 'data/office16/RiskOfInfection/360_246_aout/BoxCount.csv', 'data/office16/RiskOfInfection/360_82_aout/BoxCount.csv', 'data/office16/RiskOfInfection/960_246_aout/BoxCount.csv', 'data/office16/RiskOfInfection/660_82_aout/BoxCount.csv', 'data/office16/RiskOfInfection/960_164_aout/BoxCount.csv', 'data/office16/RiskOfInfection/960_0/BoxCount.csv', 'data/office16/RiskOfInfection/660_164_aout/BoxCount.csv']\n",
      "['data/office28/RiskOfInfection/660_246_aout/BoxCount.csv', 'data/office28/RiskOfInfection/360_246_bout/BoxCount.csv', 'data/office28/RiskOfInfection/0_0/BoxCount.csv', 'data/office28/RiskOfInfection/360_82_bout/BoxCount.csv', 'data/office28/RiskOfInfection/0_246_aout/BoxCount.csv', 'data/office28/RiskOfInfection/360_164_aout/BoxCount.csv', 'data/office28/RiskOfInfection/660_246_bout/BoxCount.csv', 'data/office28/RiskOfInfection/0_164_aout/BoxCount.csv', 'data/office28/RiskOfInfection/660_0/BoxCount.csv', 'data/office28/RiskOfInfection/360_164_bout/BoxCount.csv', 'data/office28/RiskOfInfection/960_246_bout/BoxCount.csv', 'data/office28/RiskOfInfection/0_82_bout/BoxCount.csv', 'data/office28/RiskOfInfection/960_82_bout/BoxCount.csv', 'data/office28/RiskOfInfection/960_164_bout/BoxCount.csv', 'data/office28/RiskOfInfection/960_82_aout/BoxCount.csv', 'data/office28/RiskOfInfection/0_164_bout/BoxCount.csv', 'data/office28/RiskOfInfection/0_82_aout/BoxCount.csv', 'data/office28/RiskOfInfection/0_246_bout/BoxCount.csv', 'data/office28/RiskOfInfection/360_0/BoxCount.csv', 'data/office28/RiskOfInfection/660_82_bout/BoxCount.csv', 'data/office28/RiskOfInfection/660_164_bout/BoxCount.csv', 'data/office28/RiskOfInfection/360_246_aout/BoxCount.csv', 'data/office28/RiskOfInfection/360_82_aout/BoxCount.csv', 'data/office28/RiskOfInfection/960_246_aout/BoxCount.csv', 'data/office28/RiskOfInfection/660_82_aout/BoxCount.csv', 'data/office28/RiskOfInfection/960_164_aout/BoxCount.csv', 'data/office28/RiskOfInfection/960_0/BoxCount.csv', 'data/office28/RiskOfInfection/660_164_aout/BoxCount.csv']\n"
     ]
    }
   ],
   "source": [
    "officeList = glob.glob(\"data/*\")\n",
    "\n",
    "for office in officeList:\n",
    "    boxCountList = glob.glob(office + \"/RiskOfInfection/*/BoxCount.csv\")\n",
    "    print(boxCountList)"
   ]
  },
  {
   "cell_type": "code",
   "execution_count": 38,
   "id": "d268b78d-0a02-4294-aed6-3cebb5e87f8c",
   "metadata": {},
   "outputs": [
    {
     "name": "stdout",
     "output_type": "stream",
     "text": [
      "data/office1/RiskOfInfection/0_0/BoxCount.csv\n",
      "data/office7/RiskOfInfection/960_246_bout/BoxCount.csv\n",
      "data/office22/RiskOfInfection/360_82_bout/BoxCount.csv\n"
     ]
    }
   ],
   "source": [
    "# a = np.loadtxt('data/office1/RiskOfInfection/0_0/BoxCount_A.csv', delimiter=',')\n",
    "\n",
    "# boxCountFNAME = boxCountList[0]\n",
    "boxCountFNAME = 'data/office1/RiskOfInfection/0_0/BoxCount.csv'\n",
    "print(boxCountFNAME)\n",
    "df = pd.read_csv(boxCountFNAME)\n",
    "\n",
    "boxCountFNAME = 'data/office7/RiskOfInfection/960_246_bout/BoxCount.csv'\n",
    "print(boxCountFNAME)\n",
    "df_max = pd.read_csv(boxCountFNAME)\n",
    "\n",
    "boxCountFNAME = 'data/office22/RiskOfInfection/360_82_bout/BoxCount.csv'\n",
    "print(boxCountFNAME)\n",
    "df_min = pd.read_csv(boxCountFNAME)"
   ]
  },
  {
   "cell_type": "markdown",
   "id": "69f4fd43-be28-42e5-81fb-b790da3a95b3",
   "metadata": {},
   "source": [
    "- 荒木雅弘先生へメールしたが，「専門外」とのこと\n",
    "- 学内に機械学習の専門家は他におられない？"
   ]
  },
  {
   "cell_type": "markdown",
   "id": "865aaea0-f290-424d-9213-f47d9a315eda",
   "metadata": {},
   "source": [
    "$$ 1 - \\mathrm{exp} \\left( - \\frac{N}{N_0} I \\right) $$\n",
    "\n",
    "$$ N_0 = 900 \\space \\mathrm{[viral copy / h]} $$\n",
    "$$ N = nv \\space \\mathrm{[viral copy / h]} $$\n",
    "$$ n = 10^{-7} \\space \\mathrm{[viral copy / ml]} $$"
   ]
  },
  {
   "cell_type": "markdown",
   "id": "5a5242f5-818e-4cc4-9dc9-d5046957bd5f",
   "metadata": {},
   "source": [
    "$$ I_{original} = 1 $$\n",
    "\n",
    "$$ I_\\alpha = 1.32 $$\n",
    "$$ I_\\delta = 1.5 I_\\alpha $$\n",
    "$$ I_{BA1} = 4.2 I_\\delta $$\n",
    "$$ I_{BA2} = 1.26 I_{BA1} $$\n",
    "$$ I_{BA5} = 1.27 I_{BA2} $$\n",
    "$$ I_{BA2.75} = 3.24 I_{BA5} $$\n",
    "\n",
    "<!-- $$ I_\\delta = 2.5 $$\n",
    "$$ I_\\omicron = 2.5 \\cdot 1.4 $$\n",
    "$$ I_{BA.5} = 1.3 I_{BA.2} $$\n",
    "$$ I_{BA.2} = ? $$ -->\n",
    "\n",
    "[BA.5とBA.2の比について](https://www.covid19-ai.jp/ja-jp/presentation/2022_rq1_simulations_for_infection_situations/articles/article367/)"
   ]
  },
  {
   "cell_type": "code",
   "execution_count": 39,
   "id": "bb428021-14f5-47cd-a9b4-95e85b1a31d8",
   "metadata": {},
   "outputs": [],
   "source": [
    "I = 10.\n",
    "def RateOfInfection(volume):\n",
    "    \"\"\"\n",
    "    感染率計算\n",
    "    飛沫シミュレーションは１分間しか行っていないので，１分間あたりに換算\n",
    "    \"\"\"\n",
    "    ROI = 1. - np.exp( - volume * 1e7 / (900./60.) * I)\n",
    "    return ROI"
   ]
  },
  {
   "cell_type": "code",
   "execution_count": 52,
   "id": "4bfc0d0e-cc38-42a4-828f-54f7108b9b79",
   "metadata": {},
   "outputs": [
    {
     "name": "stdout",
     "output_type": "stream",
     "text": [
      "(3300,)\n",
      "(55, 60)\n"
     ]
    }
   ],
   "source": [
    "r = RateOfInfection(df['volume'])\n",
    "r\n",
    "\n",
    "a = df['RoI'].to_numpy()\n",
    "a = r.to_numpy()\n",
    "print(a.shape)\n",
    "b = a.reshape(55, 60)\n",
    "print(b.shape)\n",
    "\n",
    "ROI_original = df['RoI'].to_numpy().reshape(55, 60)"
   ]
  },
  {
   "cell_type": "code",
   "execution_count": 53,
   "id": "504402e4-de21-4688-a122-7adfd94d6216",
   "metadata": {},
   "outputs": [
    {
     "name": "stdout",
     "output_type": "stream",
     "text": [
      "平均値：6.37%\n"
     ]
    },
    {
     "data": {
      "image/png": "[encoded data removed]",
      "text/plain": [
       "<Figure size 432x288 with 2 Axes>"
      ]
     },
     "metadata": {
      "needs_background": "light"
     },
     "output_type": "display_data"
    },
    {
     "name": "stdout",
     "output_type": "stream",
     "text": [
      "平均値：10.73%\n"
     ]
    },
    {
     "data": {
      "image/png": "[encoded data removed]",
      "text/plain": [
       "<Figure size 432x288 with 2 Axes>"
      ]
     },
     "metadata": {
      "needs_background": "light"
     },
     "output_type": "display_data"
    }
   ],
   "source": [
    "#可視化用カラーマップの作成\n",
    "# cmap = show_mod.make_colormap([\"gray\", \"gray\", \"blue\", \"white\", \"red\"])\n",
    "cmap = show_mod.make_colormap([\"blue\", \"white\", \"red\"])\n",
    "\n",
    "\n",
    "print('平均値：{:.2%}'.format(ROI_original.mean()))\n",
    "#選んだ1個をプロット\n",
    "show_mod.show_image(ROI_original, cbar=True, cmap=cmap, vmin=0)\n",
    "\n",
    "\n",
    "print('平均値：{:.2%}'.format(b.mean()))\n",
    "#選んだ1個をプロット\n",
    "show_mod.show_image(b, cbar=True, cmap=cmap, vmin=0)"
   ]
  },
  {
   "cell_type": "code",
   "execution_count": 47,
   "id": "00799c5a-d598-4bb4-b1a0-2d4520e7dd68",
   "metadata": {},
   "outputs": [],
   "source": [
    "ROI_max = df_max['RoI'].to_numpy().reshape(40, 90)\n",
    "ROI_min = df_min['RoI'].to_numpy().reshape(65, 85)"
   ]
  },
  {
   "cell_type": "code",
   "execution_count": 48,
   "id": "4151ad3e-ba5b-4ce4-bd45-0d5f2b3db013",
   "metadata": {},
   "outputs": [
    {
     "name": "stdout",
     "output_type": "stream",
     "text": [
      "平均値：9.15%\n"
     ]
    },
    {
     "data": {
      "image/png": "[encoded data removed]",
      "text/plain": [
       "<Figure size 432x288 with 2 Axes>"
      ]
     },
     "metadata": {
      "needs_background": "light"
     },
     "output_type": "display_data"
    },
    {
     "name": "stdout",
     "output_type": "stream",
     "text": [
      "平均値：2.09%\n"
     ]
    },
    {
     "data": {
      "image/png": "[encoded data removed]",
      "text/plain": [
       "<Figure size 432x288 with 2 Axes>"
      ]
     },
     "metadata": {
      "needs_background": "light"
     },
     "output_type": "display_data"
    }
   ],
   "source": [
    "#可視化用カラーマップの作成\n",
    "# cmap = show_mod.make_colormap([\"gray\", \"gray\", \"blue\", \"white\", \"red\"])\n",
    "cmap = show_mod.make_colormap([\"blue\", \"white\", \"red\"])\n",
    "\n",
    "\n",
    "print('平均値：{:.2%}'.format(ROI_max.mean()))\n",
    "#選んだ1個をプロット\n",
    "show_mod.show_image(ROI_max, cbar=True, cmap=cmap, vmin=0)\n",
    "\n",
    "\n",
    "print('平均値：{:.2%}'.format(ROI_min.mean()))\n",
    "#選んだ1個をプロット\n",
    "show_mod.show_image(ROI_min, cbar=True, cmap=cmap, vmin=0)"
   ]
  },
  {
   "cell_type": "code",
   "execution_count": 62,
   "id": "b685f6d3-c7d7-4a95-91df-c5cafc83324f",
   "metadata": {},
   "outputs": [
    {
     "name": "stdout",
     "output_type": "stream",
     "text": [
      "====================================\n",
      "0.0\n",
      "0.16760180995475113 0.57\n",
      "0.5455493528004416\n",
      "====================================\n",
      "0.1\n",
      "0.036380090497737556 0.25055555555555553\n",
      "0.7464233461535092\n",
      "====================================\n",
      "0.2\n",
      "0.02570135746606335 0.14694444444444443\n",
      "0.702264900951535\n",
      "====================================\n",
      "0.30000000000000004\n",
      "0.021357466063348415 0.09\n",
      "0.6164160910199106\n",
      "====================================\n",
      "0.4\n",
      "0.017918552036199097 0.06166666666666667\n",
      "0.5497015066805647\n",
      "====================================\n",
      "0.5\n",
      "0.01574660633484163 0.04416666666666667\n",
      "0.47435332620051607\n",
      "====================================\n",
      "0.6000000000000001\n",
      "0.014298642533936652 0.035833333333333335\n",
      "0.4295599849567507\n",
      "====================================\n",
      "0.7000000000000001\n",
      "0.01248868778280543 0.02861111111111111\n",
      "0.3922749931190556\n",
      "====================================\n",
      "0.8\n",
      "0.011583710407239819 0.023055555555555555\n",
      "0.3311803766464676\n",
      "====================================\n",
      "0.9\n",
      "0.010135746606334841 0.01861111111111111\n",
      "0.29482751082156444\n"
     ]
    }
   ],
   "source": [
    "threshold_array = np.linspace(0., 0.9, 10)\n",
    "\n",
    "for threshold in threshold_array:\n",
    "    print(\"====================================\")\n",
    "    print(threshold)\n",
    "    rate_min = np.count_nonzero(ROI_min > threshold) / ROI_min.size\n",
    "    rate_max = np.count_nonzero(ROI_max > threshold) / ROI_max.size\n",
    "    print(rate_min, rate_max)\n",
    "    print((rate_max - rate_min)/(rate_max + rate_min))\n"
   ]
  },
  {
   "cell_type": "code",
   "execution_count": null,
   "id": "cdd90844-cb55-4359-9694-75a309cc20eb",
   "metadata": {},
   "outputs": [],
   "source": []
  }
 ],
 "metadata": {
  "kernelspec": {
   "display_name": "Python 3 (ipykernel)",
   "language": "python",
   "name": "python3"
  },
  "language_info": {
   "codemirror_mode": {
    "name": "ipython",
    "version": 3
   },
   "file_extension": ".py",
   "mimetype": "text/x-python",
   "name": "python",
   "nbconvert_exporter": "python",
   "pygments_lexer": "ipython3",
   "version": "3.10.4"
  }
 },
 "nbformat": 4,
 "nbformat_minor": 5
}
