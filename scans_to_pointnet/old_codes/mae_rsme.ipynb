{
 "cells": [
  {
   "cell_type": "code",
   "execution_count": 5,
   "metadata": {},
   "outputs": [],
   "source": [
    "import numpy as np\n",
    "import pandas as pd"
   ]
  },
  {
   "cell_type": "code",
   "execution_count": 43,
   "metadata": {},
   "outputs": [],
   "source": [
    "df_all = pd.read_csv('./tmp/df_test.csv')\n",
    "df_all = df_all.set_index('case_name')"
   ]
  },
  {
   "cell_type": "code",
   "execution_count": 44,
   "metadata": {},
   "outputs": [
    {
     "data": {
      "text/html": [
       "<div>\n",
       "<style scoped>\n",
       "    .dataframe tbody tr th:only-of-type {\n",
       "        vertical-align: middle;\n",
       "    }\n",
       "\n",
       "    .dataframe tbody tr th {\n",
       "        vertical-align: top;\n",
       "    }\n",
       "\n",
       "    .dataframe thead th {\n",
       "        text-align: right;\n",
       "    }\n",
       "</style>\n",
       "<table border=\"1\" class=\"dataframe\">\n",
       "  <thead>\n",
       "    <tr style=\"text-align: right;\">\n",
       "      <th></th>\n",
       "      <th>aircon</th>\n",
       "      <th>ventilation</th>\n",
       "      <th>exhaust_a</th>\n",
       "      <th>exhaust_b</th>\n",
       "      <th>exhaust_off</th>\n",
       "      <th>office</th>\n",
       "      <th>countTimeMean_onlyFloating</th>\n",
       "    </tr>\n",
       "    <tr>\n",
       "      <th>case_name</th>\n",
       "      <th></th>\n",
       "      <th></th>\n",
       "      <th></th>\n",
       "      <th></th>\n",
       "      <th></th>\n",
       "      <th></th>\n",
       "      <th></th>\n",
       "    </tr>\n",
       "  </thead>\n",
       "  <tbody>\n",
       "    <tr>\n",
       "      <th>office1_0_164_bout</th>\n",
       "      <td>-1.387842</td>\n",
       "      <td>0.282251</td>\n",
       "      <td>-0.868459</td>\n",
       "      <td>1.151465</td>\n",
       "      <td>-0.403652</td>\n",
       "      <td>office1</td>\n",
       "      <td>3271.053000</td>\n",
       "    </tr>\n",
       "    <tr>\n",
       "      <th>office1_960_123_bout</th>\n",
       "      <td>1.293562</td>\n",
       "      <td>-0.204658</td>\n",
       "      <td>-0.868459</td>\n",
       "      <td>1.151465</td>\n",
       "      <td>-0.403652</td>\n",
       "      <td>office1</td>\n",
       "      <td>1546.898667</td>\n",
       "    </tr>\n",
       "    <tr>\n",
       "      <th>office1_960_164_aout</th>\n",
       "      <td>1.293562</td>\n",
       "      <td>0.282251</td>\n",
       "      <td>1.151465</td>\n",
       "      <td>-0.868459</td>\n",
       "      <td>-0.403652</td>\n",
       "      <td>office1</td>\n",
       "      <td>999.284000</td>\n",
       "    </tr>\n",
       "    <tr>\n",
       "      <th>office2_0_164_bout</th>\n",
       "      <td>-1.387842</td>\n",
       "      <td>0.282251</td>\n",
       "      <td>-0.868459</td>\n",
       "      <td>1.151465</td>\n",
       "      <td>-0.403652</td>\n",
       "      <td>office2</td>\n",
       "      <td>2322.241333</td>\n",
       "    </tr>\n",
       "    <tr>\n",
       "      <th>office2_960_164_aout</th>\n",
       "      <td>1.293562</td>\n",
       "      <td>0.282251</td>\n",
       "      <td>1.151465</td>\n",
       "      <td>-0.868459</td>\n",
       "      <td>-0.403652</td>\n",
       "      <td>office2</td>\n",
       "      <td>2461.452000</td>\n",
       "    </tr>\n",
       "    <tr>\n",
       "      <th>...</th>\n",
       "      <td>...</td>\n",
       "      <td>...</td>\n",
       "      <td>...</td>\n",
       "      <td>...</td>\n",
       "      <td>...</td>\n",
       "      <td>...</td>\n",
       "      <td>...</td>\n",
       "    </tr>\n",
       "    <tr>\n",
       "      <th>office33_960_164_aout</th>\n",
       "      <td>1.293562</td>\n",
       "      <td>0.282251</td>\n",
       "      <td>1.151465</td>\n",
       "      <td>-0.868459</td>\n",
       "      <td>-0.403652</td>\n",
       "      <td>office33</td>\n",
       "      <td>1761.043333</td>\n",
       "    </tr>\n",
       "    <tr>\n",
       "      <th>office33_660_0</th>\n",
       "      <td>0.455624</td>\n",
       "      <td>-1.665384</td>\n",
       "      <td>-0.868459</td>\n",
       "      <td>-0.868459</td>\n",
       "      <td>2.477379</td>\n",
       "      <td>office33</td>\n",
       "      <td>1985.264333</td>\n",
       "    </tr>\n",
       "    <tr>\n",
       "      <th>scan1_0_164_bout</th>\n",
       "      <td>-1.387842</td>\n",
       "      <td>0.282251</td>\n",
       "      <td>-0.868459</td>\n",
       "      <td>1.151465</td>\n",
       "      <td>-0.403652</td>\n",
       "      <td>scan1</td>\n",
       "      <td>1362.842000</td>\n",
       "    </tr>\n",
       "    <tr>\n",
       "      <th>scan1_960_164_aout</th>\n",
       "      <td>1.293562</td>\n",
       "      <td>0.282251</td>\n",
       "      <td>1.151465</td>\n",
       "      <td>-0.868459</td>\n",
       "      <td>-0.403652</td>\n",
       "      <td>scan1</td>\n",
       "      <td>2244.822333</td>\n",
       "    </tr>\n",
       "    <tr>\n",
       "      <th>scan1_660_0</th>\n",
       "      <td>0.455624</td>\n",
       "      <td>-1.665384</td>\n",
       "      <td>-0.868459</td>\n",
       "      <td>-0.868459</td>\n",
       "      <td>2.477379</td>\n",
       "      <td>scan1</td>\n",
       "      <td>1892.099333</td>\n",
       "    </tr>\n",
       "  </tbody>\n",
       "</table>\n",
       "<p>99 rows × 7 columns</p>\n",
       "</div>"
      ],
      "text/plain": [
       "                         aircon  ventilation  exhaust_a  exhaust_b   \n",
       "case_name                                                            \n",
       "office1_0_164_bout    -1.387842     0.282251  -0.868459   1.151465  \\\n",
       "office1_960_123_bout   1.293562    -0.204658  -0.868459   1.151465   \n",
       "office1_960_164_aout   1.293562     0.282251   1.151465  -0.868459   \n",
       "office2_0_164_bout    -1.387842     0.282251  -0.868459   1.151465   \n",
       "office2_960_164_aout   1.293562     0.282251   1.151465  -0.868459   \n",
       "...                         ...          ...        ...        ...   \n",
       "office33_960_164_aout  1.293562     0.282251   1.151465  -0.868459   \n",
       "office33_660_0         0.455624    -1.665384  -0.868459  -0.868459   \n",
       "scan1_0_164_bout      -1.387842     0.282251  -0.868459   1.151465   \n",
       "scan1_960_164_aout     1.293562     0.282251   1.151465  -0.868459   \n",
       "scan1_660_0            0.455624    -1.665384  -0.868459  -0.868459   \n",
       "\n",
       "                       exhaust_off    office  countTimeMean_onlyFloating  \n",
       "case_name                                                                 \n",
       "office1_0_164_bout       -0.403652   office1                 3271.053000  \n",
       "office1_960_123_bout     -0.403652   office1                 1546.898667  \n",
       "office1_960_164_aout     -0.403652   office1                  999.284000  \n",
       "office2_0_164_bout       -0.403652   office2                 2322.241333  \n",
       "office2_960_164_aout     -0.403652   office2                 2461.452000  \n",
       "...                            ...       ...                         ...  \n",
       "office33_960_164_aout    -0.403652  office33                 1761.043333  \n",
       "office33_660_0            2.477379  office33                 1985.264333  \n",
       "scan1_0_164_bout         -0.403652     scan1                 1362.842000  \n",
       "scan1_960_164_aout       -0.403652     scan1                 2244.822333  \n",
       "scan1_660_0               2.477379     scan1                 1892.099333  \n",
       "\n",
       "[99 rows x 7 columns]"
      ]
     },
     "execution_count": 44,
     "metadata": {},
     "output_type": "execute_result"
    }
   ],
   "source": [
    "df_all"
   ]
  },
  {
   "attachments": {},
   "cell_type": "markdown",
   "metadata": {},
   "source": [
    "点群"
   ]
  },
  {
   "cell_type": "code",
   "execution_count": 45,
   "metadata": {},
   "outputs": [],
   "source": [
    "point_cloud_dict = np.load('./saved_obj/PointCloud_dict_test.npy', allow_pickle=True).item()"
   ]
  },
  {
   "cell_type": "code",
   "execution_count": 46,
   "metadata": {},
   "outputs": [],
   "source": [
    "def standardization(x:np.array, axis=None, ddof=0):\n",
    "    x_mean = x.mean(axis=axis, keepdims=True)\n",
    "    x_std = x.std(axis=axis, keepdims=True, ddof=ddof)\n",
    "    return (x - x_mean) / x_std"
   ]
  },
  {
   "cell_type": "code",
   "execution_count": 47,
   "metadata": {},
   "outputs": [],
   "source": [
    "# officeデータのみ井田さん式で標準化\n",
    "\n",
    "# testデータ\n",
    "pc_list = []\n",
    "for office in df_all['office']:\n",
    "    if office=='scan1':\n",
    "        continue\n",
    "    pc_list.append(point_cloud_dict[office])\n",
    "\n",
    "pc_array = np.array(pc_list)\n",
    "\n",
    "a = pc_array.reshape(-1,3)\n",
    "a_standardized = standardization(a, axis=0)\n",
    "pc_array_office_test = a_standardized.reshape(pc_array.shape)"
   ]
  },
  {
   "cell_type": "code",
   "execution_count": 48,
   "metadata": {},
   "outputs": [
    {
     "data": {
      "text/plain": [
       "(32, 2048, 3)"
      ]
     },
     "execution_count": 48,
     "metadata": {},
     "output_type": "execute_result"
    }
   ],
   "source": [
    "point_cloud_list = []\n",
    "for i in range(33):\n",
    "    if i==29:\n",
    "        continue\n",
    "    point_cloud_list.append(point_cloud_dict[f'office{i+1}'])\n",
    "\n",
    "point_cloud_array = np.array(point_cloud_list)\n",
    "\n",
    "point_cloud_array.shape"
   ]
  },
  {
   "cell_type": "code",
   "execution_count": 49,
   "metadata": {},
   "outputs": [
    {
     "data": {
      "text/plain": [
       "(65536, 3)"
      ]
     },
     "execution_count": 49,
     "metadata": {},
     "output_type": "execute_result"
    }
   ],
   "source": [
    "point_cloud_array_reshape = point_cloud_array.reshape(-1,3)\n",
    "point_cloud_array_reshape.shape"
   ]
  },
  {
   "cell_type": "code",
   "execution_count": 50,
   "metadata": {},
   "outputs": [
    {
     "name": "stdout",
     "output_type": "stream",
     "text": [
      "[4.060322, 2.6875114, 1.2308416]\n",
      "[1.9615167, 1.2216018, 0.92776775]\n"
     ]
    }
   ],
   "source": [
    "x_mean = []\n",
    "x_std = []\n",
    "\n",
    "for i in range(3):\n",
    "    x_mean.append(np.mean(point_cloud_array_reshape[:,i]))\n",
    "    x_std.append(np.std(point_cloud_array_reshape[:,i], ddof=0))\n",
    "\n",
    "print(x_mean)\n",
    "print(x_std)"
   ]
  },
  {
   "cell_type": "code",
   "execution_count": 51,
   "metadata": {},
   "outputs": [],
   "source": [
    "# officeモデルのみで標準化定義\n",
    "\n",
    "def standardization_by_office(array:np.array, x_mean, x_std):\n",
    "    array_std = array.copy()\n",
    "    for i in range(3):\n",
    "        array_std[:,i] = (array[:,i] - x_mean[i]) / x_std[i]\n",
    "    return array_std"
   ]
  },
  {
   "cell_type": "code",
   "execution_count": 52,
   "metadata": {},
   "outputs": [],
   "source": [
    "# 読み込む場合\n",
    "scan1_points = np.load('./saved_obj/scan1_points.npy')"
   ]
  },
  {
   "cell_type": "code",
   "execution_count": 53,
   "metadata": {},
   "outputs": [],
   "source": [
    "scan1_points_std = standardization_by_office(scan1_points, x_mean, x_std)"
   ]
  },
  {
   "cell_type": "code",
   "execution_count": 54,
   "metadata": {},
   "outputs": [],
   "source": [
    "pc_array_test = pc_array_office_test.copy()\n",
    "for i in range(3):\n",
    "    pc_array_test = np.concatenate((pc_array_test, np.expand_dims(scan1_points_std, axis=0)))"
   ]
  },
  {
   "cell_type": "code",
   "execution_count": 55,
   "metadata": {},
   "outputs": [
    {
     "data": {
      "text/plain": [
       "(99, 2048, 3)"
      ]
     },
     "execution_count": 55,
     "metadata": {},
     "output_type": "execute_result"
    }
   ],
   "source": [
    "pc_array_test.shape"
   ]
  },
  {
   "attachments": {},
   "cell_type": "markdown",
   "metadata": {},
   "source": [
    "データ整理"
   ]
  },
  {
   "cell_type": "code",
   "execution_count": 59,
   "metadata": {},
   "outputs": [],
   "source": [
    "meta_all = df_all[['aircon', 'ventilation', 'exhaust_a', 'exhaust_b', 'exhaust_off']]\n",
    "meta_scan = df_all[df_all['office']=='scan1'][['aircon', 'ventilation', 'exhaust_a', 'exhaust_b', 'exhaust_off']]\n",
    "y_all = df_all['countTimeMean_onlyFloating']\n",
    "y_scan = df_all[df_all['office']=='scan1']['countTimeMean_onlyFloating']\n",
    "pc_all = pc_array_test\n",
    "pc_scan = pc_array_test[-3:]"
   ]
  },
  {
   "cell_type": "code",
   "execution_count": 1,
   "metadata": {},
   "outputs": [],
   "source": [
    "import keras"
   ]
  },
  {
   "cell_type": "code",
   "execution_count": 2,
   "metadata": {},
   "outputs": [
    {
     "name": "stdout",
     "output_type": "stream",
     "text": [
      "Model: \"predictionnet\"\n",
      "__________________________________________________________________________________________________\n",
      " Layer (type)                   Output Shape         Param #     Connected to                     \n",
      "==================================================================================================\n",
      " pointCloud (InputLayer)        [(None, 2048, 3)]    0           []                               \n",
      "                                                                                                  \n",
      " conv1d (Conv1D)                (None, 2048, 32)     128         ['pointCloud[0][0]']             \n",
      "                                                                                                  \n",
      " batch_normalization (BatchNorm  (None, 2048, 32)    128         ['conv1d[0][0]']                 \n",
      " alization)                                                                                       \n",
      "                                                                                                  \n",
      " activation (Activation)        (None, 2048, 32)     0           ['batch_normalization[0][0]']    \n",
      "                                                                                                  \n",
      " conv1d_1 (Conv1D)              (None, 2048, 128)    4224        ['activation[0][0]']             \n",
      "                                                                                                  \n",
      " batch_normalization_1 (BatchNo  (None, 2048, 128)   512         ['conv1d_1[0][0]']               \n",
      " rmalization)                                                                                     \n",
      "                                                                                                  \n",
      " activation_1 (Activation)      (None, 2048, 128)    0           ['batch_normalization_1[0][0]']  \n",
      "                                                                                                  \n",
      " meta (InputLayer)              [(None, 5)]          0           []                               \n",
      "                                                                                                  \n",
      " global_max_pooling1d (GlobalMa  (None, 128)         0           ['activation_1[0][0]']           \n",
      " xPooling1D)                                                                                      \n",
      "                                                                                                  \n",
      " concatenate (Concatenate)      (None, 133)          0           ['meta[0][0]',                   \n",
      "                                                                  'global_max_pooling1d[0][0]']   \n",
      "                                                                                                  \n",
      " dense (Dense)                  (None, 512)          68608       ['concatenate[0][0]']            \n",
      "                                                                                                  \n",
      " leaky_re_lu (LeakyReLU)        (None, 512)          0           ['dense[0][0]']                  \n",
      "                                                                                                  \n",
      " dense_1 (Dense)                (None, 512)          262656      ['leaky_re_lu[0][0]']            \n",
      "                                                                                                  \n",
      " leaky_re_lu_1 (LeakyReLU)      (None, 512)          0           ['dense_1[0][0]']                \n",
      "                                                                                                  \n",
      " dense_2 (Dense)                (None, 1)            513         ['leaky_re_lu_1[0][0]']          \n",
      "                                                                                                  \n",
      "==================================================================================================\n",
      "Total params: 336,769\n",
      "Trainable params: 336,449\n",
      "Non-trainable params: 320\n",
      "__________________________________________________________________________________________________\n"
     ]
    }
   ],
   "source": [
    "model_str = open('./saved_obj/best_model.json').read()\n",
    "model = keras.models.model_from_json(model_str)\n",
    "model.load_weights('./saved_obj/concat_scan_model/plus_scan1_weights_202307041515.hdf5')\n",
    "\n",
    "model.compile(\n",
    "        optimizer=keras.optimizers.Adam(learning_rate=0.006781976583074642), # learning_rateにoptunaの探索結果を直接代入\n",
    "        loss='mse',\n",
    "        metrics=['mae'],\n",
    "        )\n",
    "\n",
    "model.summary()"
   ]
  },
  {
   "cell_type": "code",
   "execution_count": 65,
   "metadata": {},
   "outputs": [
    {
     "name": "stdout",
     "output_type": "stream",
     "text": [
      "4/4 [==============================] - 0s 15ms/step\n",
      "1/1 [==============================] - 0s 23ms/step\n"
     ]
    }
   ],
   "source": [
    "all_pred = model.predict([meta_all, pc_all])\n",
    "scan_pred = model.predict([meta_scan, pc_scan])"
   ]
  },
  {
   "cell_type": "code",
   "execution_count": 31,
   "metadata": {},
   "outputs": [],
   "source": [
    "from sklearn.metrics import mean_absolute_error\n",
    "from sklearn.metrics import mean_squared_error"
   ]
  },
  {
   "cell_type": "code",
   "execution_count": 68,
   "metadata": {},
   "outputs": [],
   "source": [
    "scan_mae = mean_absolute_error(y_scan, scan_pred)\n",
    "all_mae = mean_absolute_error(y_all, all_pred)\n",
    "scan_rmse = np.sqrt(mean_squared_error(y_scan, scan_pred))\n",
    "all_rmse = np.sqrt(mean_squared_error(y_all, all_pred))"
   ]
  },
  {
   "cell_type": "code",
   "execution_count": 69,
   "metadata": {},
   "outputs": [
    {
     "data": {
      "text/html": [
       "<div>\n",
       "<style scoped>\n",
       "    .dataframe tbody tr th:only-of-type {\n",
       "        vertical-align: middle;\n",
       "    }\n",
       "\n",
       "    .dataframe tbody tr th {\n",
       "        vertical-align: top;\n",
       "    }\n",
       "\n",
       "    .dataframe thead th {\n",
       "        text-align: right;\n",
       "    }\n",
       "</style>\n",
       "<table border=\"1\" class=\"dataframe\">\n",
       "  <thead>\n",
       "    <tr style=\"text-align: right;\">\n",
       "      <th></th>\n",
       "      <th>MAE</th>\n",
       "      <th>RMSE</th>\n",
       "    </tr>\n",
       "  </thead>\n",
       "  <tbody>\n",
       "    <tr>\n",
       "      <th>scan1</th>\n",
       "      <td>253.635605</td>\n",
       "      <td>283.469567</td>\n",
       "    </tr>\n",
       "    <tr>\n",
       "      <th>all</th>\n",
       "      <td>229.741842</td>\n",
       "      <td>296.957446</td>\n",
       "    </tr>\n",
       "  </tbody>\n",
       "</table>\n",
       "</div>"
      ],
      "text/plain": [
       "              MAE        RMSE\n",
       "scan1  253.635605  283.469567\n",
       "all    229.741842  296.957446"
      ]
     },
     "execution_count": 69,
     "metadata": {},
     "output_type": "execute_result"
    }
   ],
   "source": [
    "df_result = pd.DataFrame([[scan_mae, scan_rmse], [all_mae, all_rmse]], columns=['MAE','RMSE'], index=['scan1','all'])\n",
    "df_result"
   ]
  }
 ],
 "metadata": {
  "kernelspec": {
   "display_name": "Python 3",
   "language": "python",
   "name": "python3"
  },
  "language_info": {
   "codemirror_mode": {
    "name": "ipython",
    "version": 3
   },
   "file_extension": ".py",
   "mimetype": "text/x-python",
   "name": "python",
   "nbconvert_exporter": "python",
   "pygments_lexer": "ipython3",
   "version": "3.10.7"
  },
  "orig_nbformat": 4
 },
 "nbformat": 4,
 "nbformat_minor": 2
}
